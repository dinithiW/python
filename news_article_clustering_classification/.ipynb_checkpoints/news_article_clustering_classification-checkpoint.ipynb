{
 "cells": [
  {
   "cell_type": "markdown",
   "metadata": {},
   "source": [
    "### News article clustering and classification"
   ]
  },
  {
   "cell_type": "markdown",
   "metadata": {},
   "source": [
    "### Answer (a)"
   ]
  },
  {
   "cell_type": "code",
   "execution_count": 1,
   "metadata": {},
   "outputs": [],
   "source": [
    "import pandas as pd\n",
    "import numpy as np\n",
    "import json\n",
    "import tweepy\n",
    "import nltk"
   ]
  },
  {
   "cell_type": "markdown",
   "metadata": {},
   "source": [
    "In the code given below, the Twitter API was used to collect news items from BBC and CNN. </br></br>\n",
    "\n",
    "First the authentication details needed to use the Twitter API were entered. "
   ]
  },
  {
   "cell_type": "code",
   "execution_count": 2,
   "metadata": {},
   "outputs": [],
   "source": [
    "consumer_key = 'INSERT_KEY'\n",
    "consumer_secret = 'INSERT_KEY'\n",
    "access_token = 'INSERT_KEY'\n",
    "access_token_secret = 'INSERT_KEY'\n",
    "\n",
    "\n",
    "auth = tweepy.OAuthHandler(consumer_key, consumer_secret)\n",
    "auth.set_access_token(access_token, access_token_secret)\n",
    "api = tweepy.API(auth,wait_on_rate_limit=True)"
   ]
  },
  {
   "cell_type": "markdown",
   "metadata": {},
   "source": [
    "For each news item the expanded url which contains the link to the actual news item was appended to a list (all_tweets_urls[]). "
   ]
  },
  {
   "cell_type": "code",
   "execution_count": 13,
   "metadata": {},
   "outputs": [],
   "source": [
    "all_tweets_urls = []"
   ]
  },
  {
   "cell_type": "markdown",
   "metadata": {},
   "source": [
    "The following function is used to get the link that contains the actual news item when the Twitter ID and the number of tweets to be retrieved are given"
   ]
  },
  {
   "cell_type": "code",
   "execution_count": 5,
   "metadata": {},
   "outputs": [],
   "source": [
    "#function to get expanded url\n",
    "def get_extended(name, number):\n",
    "    for status in tweepy.Cursor(api.user_timeline ,id=name , include_retweets=False, tweet_mode=\"extended\").items(number):\n",
    "        for url in status.entities['urls']:\n",
    "            expanded_url = url['expanded_url']\n",
    "            all_tweets_urls.append(expanded_url)"
   ]
  },
  {
   "cell_type": "markdown",
   "metadata": {},
   "source": [
    "1500 news items were collected from BBC. "
   ]
  },
  {
   "cell_type": "code",
   "execution_count": 14,
   "metadata": {},
   "outputs": [],
   "source": [
    "get_extended('BBCWorld',1500)"
   ]
  },
  {
   "cell_type": "markdown",
   "metadata": {},
   "source": [
    "1500 news items were collected from CNN. "
   ]
  },
  {
   "cell_type": "code",
   "execution_count": 16,
   "metadata": {},
   "outputs": [],
   "source": [
    "get_extended('CNN',1500)"
   ]
  },
  {
   "cell_type": "markdown",
   "metadata": {},
   "source": [
    "display the links of the news articles"
   ]
  },
  {
   "cell_type": "code",
   "execution_count": 17,
   "metadata": {},
   "outputs": [
    {
     "data": {
      "text/plain": [
       "['https://bbc.in/3tK6kPs',\n",
       " 'https://bbc.in/3a0S1xQ',\n",
       " 'https://bbc.in/36ZgJwR',\n",
       " 'https://bbc.in/3d1E3hn',\n",
       " 'https://bbc.in/3rClwMo',\n",
       " 'https://bbc.in/2MEMJ2r',\n",
       " 'https://bbc.in/2Oct0r0',\n",
       " 'https://bbc.in/2OlVKhe',\n",
       " 'https://bbc.in/3a1hhE5',\n",
       " 'https://bbc.in/3tI34DW',\n",
       " 'https://bbc.in/3p7puuS',\n",
       " 'https://bbc.in/3tG6hUz',\n",
       " 'https://bbc.in/3tF2IOy',\n",
       " 'https://bbc.in/3aQOlhg',\n",
       " 'https://bbc.in/36VsxQE',\n",
       " 'https://bbc.in/3rxWo9C',\n",
       " 'https://bbc.in/2Z1o76i',\n",
       " 'https://bbc.in/2LvVhb4',\n",
       " 'https://bbc.in/3rBFmHO',\n",
       " 'https://bbc.in/3jx2GDD',\n",
       " 'https://bbc.in/3p9pPgQ',\n",
       " 'https://bbc.in/36WEk0Z',\n",
       " 'https://bbc.in/3tElLbM',\n",
       " 'https://bbc.in/3aL9KZn',\n",
       " 'https://bbc.in/3aQJj4s',\n",
       " 'https://bbc.in/3ruDikA',\n",
       " 'https://bbc.in/3aOuBLk',\n",
       " 'https://bbc.in/2Lvab1g',\n",
       " 'https://bbc.in/36UMeIo',\n",
       " 'https://bbc.in/3aJ5h9K',\n",
       " 'https://bbc.in/3cTmakB',\n",
       " 'https://bbc.in/3rxauYU',\n",
       " 'https://bbc.in/3q1Nil3',\n",
       " 'https://bbc.in/3aMD4yD',\n",
       " 'https://bbc.in/3a2j245',\n",
       " 'https://bbc.in/36PXlCn',\n",
       " 'https://bbc.in/3q8Byxu',\n",
       " 'https://bbc.in/3tDj0Y8',\n",
       " 'https://bbc.in/2LzBBmU',\n",
       " 'https://bbc.in/3rAeMyA',\n",
       " 'https://bbc.in/2N6puxU',\n",
       " 'https://bbc.in/3rtYBTm',\n",
       " 'https://bbc.in/3q5EOJG',\n",
       " 'https://bbc.in/3oZgPe4',\n",
       " 'https://bbc.in/3q4a3ox',\n",
       " 'https://bbc.in/3aI9BGg',\n",
       " 'https://bbc.in/3aIZ2Tf',\n",
       " 'https://bbc.in/2NbmVun',\n",
       " 'https://bbc.in/3b0iyuL',\n",
       " 'https://bbc.in/3rzWvSc',\n",
       " 'https://bbc.in/3q3vOVv',\n",
       " 'https://bbc.in/3rLnjiz',\n",
       " 'https://bbc.in/3jyL5Lx',\n",
       " 'https://bbc.in/2N1pRtD',\n",
       " 'https://bbc.in/3q4QnAX',\n",
       " 'https://bbc.in/3q1KeWe',\n",
       " 'https://bbc.in/39ZQSXv',\n",
       " 'https://bbc.in/2N7xvCC',\n",
       " 'https://bbc.in/3p1gGqz',\n",
       " 'https://bbc.in/3aQJHjI',\n",
       " 'https://bbc.in/3js6YfD',\n",
       " 'https://bbc.in/3tFzEqf',\n",
       " 'https://bbc.in/3cSMb3m',\n",
       " 'https://bbc.in/2MNj2w3',\n",
       " 'https://bbc.in/2MIemaA',\n",
       " 'https://bbc.in/3rKGEAr',\n",
       " 'https://bbc.in/3a0jzDD',\n",
       " 'https://bbc.in/3a3PyTD',\n",
       " 'https://bbc.in/39WSOju',\n",
       " 'https://bbc.in/2N0xznP',\n",
       " 'https://bbc.in/3q0mSjR',\n",
       " 'https://bbc.in/2MNGRDP',\n",
       " 'https://bbc.in/3oYVlhs',\n",
       " 'https://bbc.in/3p3vTXY',\n",
       " 'https://bbc.in/3p13bXA',\n",
       " 'https://bbc.in/3tATsuM',\n",
       " 'https://bbc.in/3rJOMRJ',\n",
       " 'https://bbc.in/2YWWhIk',\n",
       " 'https://bbc.in/3jqq71z',\n",
       " 'https://bbc.in/3ru1UKs',\n",
       " 'https://bbc.in/3pVY3pe',\n",
       " 'https://bbc.in/36Mim0L',\n",
       " 'https://bbc.in/2N8V3He',\n",
       " 'https://bbc.in/36SRpbD',\n",
       " 'https://bbc.in/3aK4KEd',\n",
       " 'https://bbc.in/3jtaXIJ',\n",
       " 'https://bbc.in/3rBGeMB',\n",
       " 'https://bbc.in/2O7v3wu',\n",
       " 'https://bbc.in/3jsQ6Wb',\n",
       " 'https://bbc.in/2OiA3P5',\n",
       " 'https://bbc.in/2ObeqA1',\n",
       " 'https://bbc.in/3jz9Sz9',\n",
       " 'https://bbc.in/3cWri7L',\n",
       " 'https://bbc.in/3cQP4C0',\n",
       " 'https://bbc.in/2Luh5Eb',\n",
       " 'https://bbc.in/3aGzpCy',\n",
       " 'https://bbc.in/3jqvMod',\n",
       " 'https://bbc.in/2YWnRFE',\n",
       " 'http://bbc.in/3rtgp14',\n",
       " 'https://bbc.in/2YP462W',\n",
       " 'https://bbc.in/3oYuMcf',\n",
       " 'https://bbc.in/39T4nYR',\n",
       " 'https://bbc.in/3aGGMdc',\n",
       " 'https://bbc.in/2N1LD0v',\n",
       " 'https://bbc.in/39WQUiL',\n",
       " 'https://bbc.in/39UQfOF',\n",
       " 'https://bbc.in/39Vj79v',\n",
       " 'http://bbc.in/2YKUIgK',\n",
       " 'https://bbc.in/3pSFDWj',\n",
       " 'https://bbc.in/2MydTbd',\n",
       " 'https://bbc.in/3pY6sbJ',\n",
       " 'https://bbc.in/2MKtkwN',\n",
       " 'https://bbc.in/3jqkDUh',\n",
       " 'https://bbc.in/39Wz27R',\n",
       " 'https://bbc.in/3rI2owP',\n",
       " 'https://bbc.in/3pYqtim',\n",
       " 'https://bbc.in/2MGwVfr',\n",
       " 'https://bbc.in/2YQ23eM',\n",
       " 'https://bbc.in/3ryerfJ',\n",
       " 'https://bbc.in/3ttT1m1',\n",
       " 'https://bbc.in/3oX1RFd',\n",
       " 'http://bbc.in/3p3Wvs4',\n",
       " 'https://bbc.in/2N0xFMm',\n",
       " 'https://bbc.in/3aJDLsm',\n",
       " 'https://bbc.in/39Wsg1S',\n",
       " 'https://bbc.in/39ZSEbf',\n",
       " 'https://bbc.in/3jrGT05',\n",
       " 'https://bbc.in/39WcsvV',\n",
       " 'https://bbc.in/39SUvhI',\n",
       " 'https://bbc.in/39VsTIU',\n",
       " 'https://bbc.in/39S1zeC',\n",
       " 'https://bbc.in/36OW2DG',\n",
       " 'http://bbc.in/3oT2fVs',\n",
       " 'https://bbc.in/39VsTIU',\n",
       " 'https://bbc.in/39S1zeC',\n",
       " 'https://bbc.in/3aFrMMv',\n",
       " 'https://bbc.in/3q1oj1m',\n",
       " 'https://bbc.in/36LBQCA',\n",
       " 'https://bbc.in/2YRFtCH',\n",
       " 'https://bbc.in/3rrVmMn',\n",
       " 'https://bbc.in/3q0xEq4',\n",
       " 'https://bbc.in/2N3dNbr',\n",
       " 'https://bbc.in/3tGRAAT',\n",
       " 'https://bbc.in/3oP0V5S',\n",
       " 'https://bbc.in/3tBr8Z5',\n",
       " 'https://bbc.in/3aCXL03',\n",
       " 'https://bbc.in/3oVprT1',\n",
       " 'https://bbc.in/3rqtsjO',\n",
       " 'http://bbc.in/2YXxDY1',\n",
       " 'https://bbc.in/39SZkI3',\n",
       " 'https://bbc.in/3jqHSOk',\n",
       " 'https://bbc.in/3cNtpug',\n",
       " 'https://bbc.in/2N5h7CA',\n",
       " 'https://bbc.in/2Ob9AD4',\n",
       " 'https://bbc.in/3rr1l3T',\n",
       " 'https://bbc.in/2YRJ5V7',\n",
       " 'https://bbc.in/3aF66A5',\n",
       " 'https://bbc.in/3pWg0DU',\n",
       " 'https://bbc.in/3aHnZOH',\n",
       " 'https://bbc.in/3cN2sXQ',\n",
       " 'https://bbc.in/3cJZlQa',\n",
       " 'http://bbc.in/3jlnLRk',\n",
       " 'https://bbc.in/3tsCoXX',\n",
       " 'https://bbc.in/39SY0Vk',\n",
       " 'https://bbc.in/3jqYdCC',\n",
       " 'https://bbc.in/3jqYdCC',\n",
       " 'https://bbc.in/39IwdHb',\n",
       " 'https://bbc.in/3aAuF1m',\n",
       " 'https://bbc.in/3pXLxp5',\n",
       " 'https://bbc.in/3cPA6vV',\n",
       " 'https://bbc.in/2YQwv8M',\n",
       " 'https://bbc.in/3q6mIqU',\n",
       " 'https://bbc.in/3joZutz',\n",
       " 'https://bbc.in/36M868u',\n",
       " 'https://bbc.in/3rr0WPc',\n",
       " 'https://bbc.in/2YS7oCx',\n",
       " 'https://bbc.in/2MX8ave',\n",
       " 'https://bbc.in/3aGplt0',\n",
       " 'https://bbc.in/2YOIR15',\n",
       " 'https://bbc.in/3aB47gl',\n",
       " 'https://bbc.in/3rs3Enr',\n",
       " 'https://bbc.in/3jjZI5s',\n",
       " 'https://bbc.in/3rltrgU',\n",
       " 'https://bbc.in/3aGbiUz',\n",
       " 'https://bbc.in/3aBJ50X',\n",
       " 'https://bbc.in/3jlSPR3',\n",
       " 'https://bbc.in/2Mu6M3x',\n",
       " 'https://bbc.in/3cLsDOk',\n",
       " 'https://bbc.in/2YQCavE',\n",
       " 'https://bbc.in/3pVwwnH',\n",
       " 'https://bbc.in/3oTAqw5',\n",
       " 'https://bbc.in/3jnQm8U',\n",
       " 'https://bbc.in/2N2Ou96',\n",
       " 'https://bbc.in/39Pwzfi',\n",
       " 'https://bbc.in/3ts1tCa',\n",
       " 'https://bbc.in/2Lqps3y',\n",
       " 'https://bbc.in/3rtNnya',\n",
       " 'https://bbc.in/3oRPNVK',\n",
       " 'https://bbc.in/39R15Fo',\n",
       " 'https://bbc.in/39SoXbT',\n",
       " 'https://bbc.in/3togbKm',\n",
       " 'https://bbc.in/3cWJIoX',\n",
       " 'https://bbc.in/2O15du4',\n",
       " 'https://bbc.in/2O5wICN',\n",
       " 'https://www.bbc.co.uk/news/business-55944643',\n",
       " 'https://www.bbc.co.uk/news/world-asia-55945202',\n",
       " 'https://www.bbc.co.uk/news/55918746',\n",
       " 'https://www.bbc.co.uk/news/world-asia-55948773',\n",
       " 'https://bbc.in/2YQiQyg',\n",
       " 'https://www.bbc.co.uk/news/world-us-canada-55945942',\n",
       " 'https://bbc.in/2YPcT50',\n",
       " 'https://bbc.in/2O9gk4l',\n",
       " 'https://bbc.in/3axT7QR',\n",
       " 'https://bbc.in/3oSlT3C',\n",
       " 'https://bbc.in/3pM1lex',\n",
       " 'http://bbc.in/36JCUHk',\n",
       " 'https://bbc.in/36MLh4C',\n",
       " 'https://bbc.in/3pRybuA',\n",
       " 'https://bbc.in/3rmdtDf',\n",
       " 'https://bbc.in/3rpj8IM',\n",
       " 'https://bbc.in/2MsBvOs',\n",
       " 'https://bbc.in/3aCox8M',\n",
       " 'https://bbc.in/3rt1i7Z',\n",
       " 'https://bbc.in/39OCCk2',\n",
       " 'https://bbc.in/2YOXSjo',\n",
       " 'https://bbc.in/39P9sRV',\n",
       " 'https://bbc.in/3pU098Q',\n",
       " 'https://bbc.in/3rmdtDf',\n",
       " 'https://bbc.in/3rnLa7I',\n",
       " 'https://bbc.in/2LjD1Sb',\n",
       " 'https://bbc.in/36KCe4d',\n",
       " 'https://bbc.in/39OTpDA',\n",
       " 'https://bbc.in/3cKKvsL',\n",
       " 'https://bbc.in/3trOsZb',\n",
       " 'https://bbc.in/3pKZBlL',\n",
       " 'https://bbc.in/3jkxU0U',\n",
       " 'https://bbc.in/3cE9WMF',\n",
       " 'https://bbc.in/2YHQxlT',\n",
       " 'https://bbc.in/3jlm6vm',\n",
       " 'https://bbc.in/3jh1cgN',\n",
       " 'https://bbc.in/2YKJUz3',\n",
       " 'https://bbc.in/2YO3Xwo',\n",
       " 'https://bbc.in/3q2lfSR',\n",
       " 'https://bbc.in/3jgsVyd',\n",
       " 'https://bbc.in/2O8ZVgj',\n",
       " 'https://bbc.in/3cF1zAh',\n",
       " 'https://bbc.in/2YKorGz',\n",
       " 'https://bbc.in/3azoNoX',\n",
       " 'https://bbc.in/3pKJm8e',\n",
       " 'https://bbc.in/2MW2Qs9',\n",
       " 'https://bbc.in/3pQT0Gm',\n",
       " 'https://bbc.in/36H66P2',\n",
       " 'https://bbc.in/2LkJI6H',\n",
       " 'https://bbc.in/36HOMt3',\n",
       " 'https://bbc.in/36HESYA',\n",
       " 'https://bbc.in/2YKnPRg',\n",
       " 'https://bbc.in/3az4vMj',\n",
       " 'https://bbc.in/3cHQJts',\n",
       " 'https://bbc.in/3riPGEr',\n",
       " 'https://bbc.in/3oQ3Uen',\n",
       " 'https://bbc.in/3arvh9a',\n",
       " 'https://bbc.in/36K6BI5',\n",
       " 'https://bbc.in/3azJG3b',\n",
       " 'https://bbc.in/3oSLc5z',\n",
       " 'https://bbc.in/36HD4yK',\n",
       " 'https://bbc.in/3oJc1cp',\n",
       " 'https://bbc.in/3jsO1tn',\n",
       " 'https://bbc.in/2NXQZKs',\n",
       " 'https://bbc.in/2MUX6il',\n",
       " 'https://bbc.in/2MUT2P7',\n",
       " 'https://bbc.in/3pP6faJ',\n",
       " 'https://bbc.in/2YISgHt',\n",
       " 'https://bbc.in/3oMDnP3',\n",
       " 'https://bbc.in/3tqpSYP',\n",
       " 'https://bbc.in/3oGZshW',\n",
       " 'https://bbc.in/3oJ5hv7',\n",
       " 'https://bbc.in/36GL96F',\n",
       " 'https://bbc.in/3aEi1yq',\n",
       " 'https://bbc.in/2LguAqK',\n",
       " 'https://bbc.in/3aBGLXZ',\n",
       " 'https://bbc.in/3pOUJvQ',\n",
       " 'https://bbc.in/3avzYyZ',\n",
       " 'https://bbc.in/36EjsLW',\n",
       " 'https://bbc.in/2YIoWB6',\n",
       " 'https://bbc.in/3jiGnle',\n",
       " 'https://bbc.in/3tsYZDJ',\n",
       " 'https://bbc.in/3oOKUg2',\n",
       " 'https://bbc.in/36GlUkV',\n",
       " 'https://bbc.in/3ayjhCX',\n",
       " 'https://bbc.in/3jo7n2I',\n",
       " 'https://bbc.in/2YLBWG1',\n",
       " 'https://bbc.in/3toZmPu',\n",
       " 'https://bbc.in/3cFCHsc',\n",
       " 'https://bbc.in/36GdH0p',\n",
       " 'https://bbc.in/3rfNDAM',\n",
       " 'https://bbc.in/3jh7EnT',\n",
       " 'https://bbc.in/3rigbK8',\n",
       " 'https://bbc.in/2MVw5Ln',\n",
       " 'https://bbc.in/3cFtv7q',\n",
       " 'https://bbc.in/3tmzh3A',\n",
       " 'https://bbc.in/3jcF9b2',\n",
       " 'https://bbc.in/3rhYH0s',\n",
       " 'https://bbc.in/3rp8XnN',\n",
       " 'https://bbc.in/2Mwypc6',\n",
       " 'https://bbc.in/2MARcCZ',\n",
       " 'https://bbc.in/2LlgJj8',\n",
       " 'https://bbc.in/39LhfAr',\n",
       " 'https://bbc.in/3ay8b0U',\n",
       " 'https://bbc.in/3aAzF69',\n",
       " 'https://bbc.in/2Mw4EYU',\n",
       " 'https://bbc.in/3jcK8by',\n",
       " 'https://bbc.in/2O3UZJx',\n",
       " 'https://bbc.in/3rkz4vQ',\n",
       " 'https://bbc.in/2LjsV3S',\n",
       " 'https://bbc.in/2O3NaUc',\n",
       " 'https://bbc.in/3riZsGt',\n",
       " 'https://bbc.in/36F0OUb',\n",
       " 'https://bbc.in/2MwFDNd',\n",
       " 'https://bbc.in/3axNYrU',\n",
       " 'https://bbc.in/3rcVmj8',\n",
       " 'https://bbc.in/2MnKn80',\n",
       " 'https://bbc.in/3aBt3EC',\n",
       " 'https://bbc.in/3cxVRQR',\n",
       " 'https://bbc.in/3riTuFw',\n",
       " 'https://bbc.in/2YFJ5aL',\n",
       " 'https://bbc.in/2MtWxMt',\n",
       " 'https://bbc.in/3pLfGYJ',\n",
       " 'https://bbc.in/3pO2FNZ',\n",
       " 'https://bbc.in/2MudVAI',\n",
       " 'https://bbc.in/3tqC0Jd',\n",
       " 'https://bbc.in/3axs1ZV',\n",
       " 'https://bbc.in/3tnD40v',\n",
       " 'https://bbc.in/3oFzLy5',\n",
       " 'https://bbc.in/2MyECnI',\n",
       " 'https://bbc.in/3cCwvBl',\n",
       " 'https://bbc.in/3ax1lsf',\n",
       " 'https://bbc.in/36yLqbS',\n",
       " 'https://bbc.in/3tqlmtd',\n",
       " 'https://bbc.in/3tuOlwj',\n",
       " 'https://bbc.in/2MRfisU',\n",
       " 'https://bbc.in/3cBztWL',\n",
       " 'https://bbc.in/3txpOqm',\n",
       " 'https://bbc.in/3r9GOAW',\n",
       " 'https://bbc.in/3rgAgR1',\n",
       " 'https://bbc.in/3jfa8mY',\n",
       " 'https://bbc.in/3rhQn0J',\n",
       " 'https://bbc.in/3pIfsSc',\n",
       " 'https://bbc.in/3pJFW5J',\n",
       " 'https://bbc.in/2MxjtdN',\n",
       " 'https://bbc.in/3tn77FB',\n",
       " 'https://bbc.in/3jb90Rd',\n",
       " 'https://bbc.in/3pKxx1X',\n",
       " 'https://bbc.in/3j9w8Q0',\n",
       " 'https://bbc.in/3pISIS5',\n",
       " 'https://bbc.in/2LihY2y',\n",
       " 'https://bbc.in/3pW04S0',\n",
       " 'https://bbc.in/3awEYmK',\n",
       " 'https://bbc.in/2LbyEbN',\n",
       " 'https://bbc.in/3jcTtA7',\n",
       " 'https://bbc.in/36BEpHq',\n",
       " 'https://bbc.in/2Ld9oSy',\n",
       " 'https://bbc.in/3jfeU3Q',\n",
       " 'https://bbc.in/2YB6xpL',\n",
       " 'https://bbc.in/3jdZQDt',\n",
       " 'https://bbc.in/36BEpHq',\n",
       " 'https://bbc.in/3anNcOc',\n",
       " 'https://bbc.in/2LcYFHM',\n",
       " 'https://bbc.in/3jcTtA7',\n",
       " 'https://bbc.in/3cCoUmu',\n",
       " 'https://bbc.in/39HNLU3',\n",
       " 'https://bbc.in/2LbyEbN',\n",
       " 'https://bbc.in/3cC8lai',\n",
       " 'https://bbc.in/3atXk8c',\n",
       " 'https://bbc.in/3cDdWwO',\n",
       " 'https://bbc.in/3rdJihC',\n",
       " 'https://bbc.in/3tmQXMA',\n",
       " 'https://bbc.in/3rk7Llg',\n",
       " 'https://bbc.in/39H5aMx',\n",
       " 'https://bbc.in/2YDaNoB',\n",
       " 'https://bbc.in/3pM6h31',\n",
       " 'https://bbc.in/39D4jfM',\n",
       " 'https://bbc.in/3rsKxd9',\n",
       " 'https://bbc.in/3cCYuki',\n",
       " 'https://bbc.in/3pGXFuA',\n",
       " 'https://bbc.in/2MOvefL',\n",
       " 'https://bbc.in/2NUJbJr',\n",
       " 'https://bbc.in/3tlhXw0',\n",
       " 'https://bbc.in/3jc03XM',\n",
       " 'https://bbc.in/39KQOLf',\n",
       " 'https://bbc.in/3oECMi7',\n",
       " 'https://bbc.in/3j7KBfi',\n",
       " 'https://bbc.in/3thOxP7',\n",
       " 'https://bbc.in/3cyzGdb',\n",
       " 'https://bbc.in/3aqNwvE',\n",
       " 'https://bbc.in/2MNJrtm',\n",
       " 'https://bbc.in/39GC3Ji',\n",
       " 'https://bbc.in/3rsfH4n',\n",
       " 'https://bbc.in/2NWeILc',\n",
       " 'https://bbc.in/3rbq10n',\n",
       " 'https://bbc.in/3pTX2h6',\n",
       " 'https://bbc.in/3rkfK21',\n",
       " 'https://bbc.in/2O0q2pF',\n",
       " 'https://bbc.in/3j6wHdm',\n",
       " 'https://bbc.in/2YB44M3',\n",
       " 'https://bbc.in/3cyZm9y',\n",
       " 'https://bbc.in/2O0lTC7',\n",
       " 'https://bbc.in/3jbF1bN',\n",
       " 'https://bbc.in/3czelAk',\n",
       " 'https://bbc.in/2YD3nli',\n",
       " 'https://bbc.in/3r6vDce',\n",
       " 'https://bbc.in/3jaUGrL',\n",
       " 'https://bbc.in/3tiMZV0',\n",
       " 'https://bbc.in/2Mq8pz3',\n",
       " 'https://bbc.in/3rca7To',\n",
       " 'https://bbc.in/3oHyyGw',\n",
       " 'https://bbc.in/36QYNob',\n",
       " 'https://bbc.in/2MiyT5H',\n",
       " 'http://bbc.in/3cBnhoS',\n",
       " 'https://bbc.in/3ajqyGw',\n",
       " 'http://bbc.in/2YyyRZT',\n",
       " 'http://bbc.in/3apK3gS',\n",
       " 'http://bbc.in/3jcHdQq',\n",
       " 'http://bbc.in/2MiCb92',\n",
       " 'http://bbc.in/3ctpt1P',\n",
       " 'http://bbc.in/3tceuQ6',\n",
       " 'http://bbc.in/36zUAor',\n",
       " 'http://bbc.in/2YByJZG',\n",
       " 'http://bbc.in/2L8y4vo',\n",
       " 'https://bbc.in/2YDhXck',\n",
       " 'https://bbc.in/3pG67dw',\n",
       " 'https://bbc.in/39yMi25',\n",
       " 'https://bbc.in/3j55I1O',\n",
       " 'https://bbc.in/3pHgOfJ',\n",
       " 'https://bbc.in/3ak1DCU',\n",
       " 'https://bbc.in/39D0WVY',\n",
       " 'https://bbc.in/39BMGNd',\n",
       " 'https://bbc.in/2Yy8Olh',\n",
       " 'https://bbc.in/2Ywt86G',\n",
       " 'https://bbc.in/3pGBVPk',\n",
       " 'https://bbc.in/3rg8fsC',\n",
       " 'https://bbc.in/3j5Ga4y',\n",
       " 'https://bbc.in/3rc1b0d',\n",
       " 'https://bbc.in/3cxoGNo',\n",
       " 'https://bbc.in/3tk1jwq',\n",
       " 'https://bbc.in/3cvQp0P',\n",
       " 'https://bbc.in/2MK0psA',\n",
       " 'https://bbc.in/3cxdC2O',\n",
       " 'https://bbc.in/3tiHvtq',\n",
       " 'https://bbc.in/2NQFAMp',\n",
       " 'https://bbc.in/3rfpJFw',\n",
       " 'https://bbc.in/36v3tzE',\n",
       " 'https://bbc.in/3cwroCQ',\n",
       " 'https://bbc.in/3aoridB',\n",
       " 'https://bbc.in/3oDvw6i',\n",
       " 'https://bbc.in/3amA0cl',\n",
       " 'https://bbc.in/2YzKu2M',\n",
       " 'https://bbc.in/39zQEWP',\n",
       " 'https://bbc.in/36vysM5',\n",
       " 'https://bbc.in/3pCKA5j',\n",
       " 'https://bbc.in/36w20Jj',\n",
       " 'https://bbc.in/3rg3xLL',\n",
       " 'https://bbc.in/36NncuP',\n",
       " 'https://bbc.in/36yolWV',\n",
       " 'https://bbc.in/39zHIk3',\n",
       " 'https://bbc.in/3cvS0E2',\n",
       " 'https://bbc.in/36pLcDQ',\n",
       " 'https://bbc.in/3tnhnhl',\n",
       " 'https://bbc.in/3ahL2zK',\n",
       " 'https://bbc.in/3pEdG4j',\n",
       " 'https://bbc.in/3pwrAFP',\n",
       " 'https://bbc.in/3r79hqY',\n",
       " 'https://bbc.in/2YuuPlc',\n",
       " 'https://bbc.in/2LaAolM',\n",
       " 'https://bbc.in/2L7qPEb',\n",
       " 'https://bbc.in/3rayfG4',\n",
       " 'https://bbc.in/3pAGHhu',\n",
       " 'https://bbc.in/36sd22c',\n",
       " 'https://bbc.in/2L1ZjYu',\n",
       " 'https://bbc.in/3pM2tyZ',\n",
       " 'https://bbc.in/2YtOW2W',\n",
       " 'https://bbc.in/2Yz6JWy',\n",
       " 'https://bbc.in/36srXcV',\n",
       " 'https://bbc.in/39xUIXE',\n",
       " 'https://bbc.in/3r7ZssP',\n",
       " 'https://bbc.in/3oFhyk9',\n",
       " 'https://bbc.in/3j1erlC',\n",
       " 'https://bbc.in/3rdjX7F',\n",
       " 'https://bbc.in/39C4fN6',\n",
       " 'https://bbc.in/2MI5IZi',\n",
       " 'https://bbc.in/2MexuNs',\n",
       " 'https://bbc.in/3r8OLGm',\n",
       " 'https://bbc.in/2L3Lysk',\n",
       " 'https://bbc.in/3pzjAE0',\n",
       " 'https://bbc.in/36v44Bp',\n",
       " 'http://bbc.in/39xmSlj',\n",
       " 'https://bbc.in/3j1qdfE',\n",
       " 'https://bbc.in/3ot6HKg',\n",
       " 'http://bbc.in/3cE8s5d',\n",
       " 'https://bbc.in/3iZsQ1G',\n",
       " 'https://bbc.in/3oG5pfa',\n",
       " 'https://bbc.in/3ctZ5oe',\n",
       " 'https://bbc.in/39yoCLd',\n",
       " 'https://bbc.in/3osvv56',\n",
       " 'https://bbc.in/3taWV30',\n",
       " 'https://bbc.in/2YuvYZT',\n",
       " 'https://bbc.in/39wjOGc',\n",
       " 'https://bbc.in/39xZmVp',\n",
       " 'https://bbc.in/36qnU0M',\n",
       " 'https://bbc.in/3ckbMlI',\n",
       " 'https://bbc.in/3crcuOa',\n",
       " 'https://bbc.in/3rb2FrL',\n",
       " 'http://bbc.in/3pzKITl',\n",
       " 'https://bbc.in/3pAmOqC',\n",
       " 'http://bbc.in/36oJX7O',\n",
       " 'https://bbc.in/3pyJvLY',\n",
       " 'https://bbc.in/2NQrISw',\n",
       " 'http://bbc.in/3t7c59o',\n",
       " 'https://bbc.in/3tauXEw',\n",
       " 'https://bbc.in/3r3SO6P',\n",
       " 'https://bbc.in/3oAzL2m',\n",
       " 'http://bbc.in/2L450oY',\n",
       " 'https://bbc.in/3qYfLs6',\n",
       " 'https://bbc.in/2M7FpMv',\n",
       " 'https://bbc.in/3r1SmpD',\n",
       " 'https://bbc.in/3cmJqai',\n",
       " 'https://bbc.in/2YFxjNP',\n",
       " 'https://bbc.in/2Mg4bKg',\n",
       " 'https://bbc.in/3t6O0zr',\n",
       " 'https://bbc.in/3qWe6n0',\n",
       " 'https://bbc.in/39x6CRs',\n",
       " 'https://bbc.in/3t9kQzJ',\n",
       " 'https://bbc.in/3pwTUb2',\n",
       " 'https://bbc.in/2YtPCFy',\n",
       " 'https://bbc.in/3cmbquW',\n",
       " 'https://bbc.in/36sh1Mu',\n",
       " 'https://bbc.in/2M8vfeB',\n",
       " 'https://bbc.in/3t8pCxt',\n",
       " 'https://bbc.in/3pw6hUB',\n",
       " 'https://bbc.in/3pyQjJu',\n",
       " 'https://bbc.in/2MfyrF7',\n",
       " 'https://bbc.in/3ouUhlc',\n",
       " 'http://bbc.in/3r8WGnj',\n",
       " 'http://bbc.in/3iZY6NW',\n",
       " 'https://bbc.in/3tbAdri',\n",
       " 'http://bbc.in/3cl1ul9',\n",
       " 'https://bbc.in/3t598WS',\n",
       " 'https://bbc.in/2NO3ZlW',\n",
       " 'https://bbc.in/2NCxpDl',\n",
       " 'https://bbc.in/3pqn4sh',\n",
       " 'http://bbc.in/3t7qoKZ',\n",
       " 'https://bbc.in/3cnORpq',\n",
       " 'https://bbc.in/36p2PUf',\n",
       " 'https://bbc.in/2MemU92',\n",
       " 'https://bbc.in/3pv6lEn',\n",
       " 'https://bbc.in/39rMhwY',\n",
       " 'https://bbc.in/3iZ0oNd',\n",
       " 'https://bbc.in/3oqqrxX',\n",
       " 'https://bbc.in/3cnqjwM',\n",
       " 'https://bbc.in/3pBtTYg',\n",
       " 'https://bbc.in/39tK3xa',\n",
       " 'https://bbc.in/3r6tgpB',\n",
       " 'https://bbc.in/3t5bYet',\n",
       " 'https://bbc.in/2KY0JTS',\n",
       " 'https://bbc.in/2YpcHsL',\n",
       " 'https://bbc.in/3prMh5y',\n",
       " 'https://bbc.in/3adI3YP',\n",
       " 'https://bbc.in/3ouVGrC',\n",
       " 'https://bbc.in/3iUMdZL',\n",
       " 'https://bbc.in/2MxLZLW',\n",
       " 'https://bbc.in/2Ys9dFS',\n",
       " 'https://bbc.in/2L03h43',\n",
       " 'https://bbc.in/3iX8Ah6',\n",
       " 'https://bbc.in/3ahrV8G',\n",
       " 'https://bbc.in/3ab6GFH',\n",
       " 'https://bbc.in/36pzpWi',\n",
       " 'https://bbc.in/3pH3TL7',\n",
       " 'https://bbc.in/36kx0Mm',\n",
       " 'http://bbc.in/3oufuM7',\n",
       " 'https://twitter.com/BBCRosAtkins/status/1355074721864441857',\n",
       " 'https://bbc.in/36iHOus',\n",
       " 'https://bbc.in/3otbxHp',\n",
       " 'https://bbc.in/36n5luc',\n",
       " 'https://bbc.in/39sximw',\n",
       " 'https://bbc.in/3pyp6qk',\n",
       " 'https://bbc.in/3ouWUmV',\n",
       " 'https://bbc.in/3t6BfVH',\n",
       " 'https://bbc.in/2Yo4iWv',\n",
       " 'https://bbc.in/3ckovVq',\n",
       " 'https://bbc.in/3clUBQM',\n",
       " 'https://bbc.in/3pujXQ9',\n",
       " 'https://bbc.in/3aaOfkx',\n",
       " 'https://bbc.in/36oSho6',\n",
       " 'https://bbc.in/2Yo4iWv',\n",
       " 'https://bbc.in/3qZwb3n',\n",
       " 'https://bbc.in/3abJdUW',\n",
       " 'https://bbc.in/3pxR2us',\n",
       " 'https://bbc.in/2Yrogj8',\n",
       " 'https://bbc.in/2KXY9NP',\n",
       " 'http://bbc.in/36o9RZD',\n",
       " 'https://bbc.in/2McBbTG',\n",
       " 'https://bbc.in/39qfBDP',\n",
       " 'https://bbc.in/2McACJA',\n",
       " 'https://bbc.in/3orSld5',\n",
       " 'http://bbc.in/3aaSVqp',\n",
       " 'https://bbc.in/2Mb23Dq',\n",
       " 'https://bbc.in/39rR9lz',\n",
       " 'https://bbc.in/3os99AG',\n",
       " 'https://bbc.in/36omeoy',\n",
       " 'https://bbc.in/3adVA2x',\n",
       " 'https://bbc.in/2Yne3nV',\n",
       " 'https://bbc.in/2MaIs6t',\n",
       " 'https://bbc.in/3cjEcML',\n",
       " 'https://bbc.in/2M4QnSZ',\n",
       " 'https://bbc.in/3prPKkP',\n",
       " 'https://bbc.in/3clvs8K',\n",
       " 'https://bbc.in/3ps0bon',\n",
       " 'https://bbc.in/2YlxXQ2',\n",
       " 'https://bbc.in/3pmUKXL',\n",
       " 'https://bbc.in/36kuDt6',\n",
       " 'https://bbc.in/39ovkUa',\n",
       " 'https://bbc.in/3ckYo0C',\n",
       " 'https://bbc.in/3iSKJz0',\n",
       " 'https://bbc.in/2NLPxLd',\n",
       " 'https://bbc.in/3a8Emnu',\n",
       " 'https://bbc.in/2My4dNc',\n",
       " 'https://bbc.in/3oqCEmk',\n",
       " 'https://bbc.in/39qi41p',\n",
       " 'https://bbc.in/3osk11i',\n",
       " 'https://bbc.in/3aaf9c9',\n",
       " 'https://bbc.in/3iViaRN',\n",
       " 'https://bbc.in/3t4S03G',\n",
       " 'https://bbc.in/3iV8nuH',\n",
       " 'https://bbc.in/36ib8RG',\n",
       " 'https://bbc.in/3r4rPbv',\n",
       " 'https://bbc.in/3osX5PD',\n",
       " 'https://bbc.in/3qYP1Yt',\n",
       " 'https://bbc.in/3qSJBya',\n",
       " 'https://bbc.in/2YlYpcp',\n",
       " 'https://bbc.in/3qZy3Js',\n",
       " 'https://bbc.in/2YiOWCG',\n",
       " 'https://bbc.in/2NKjpHR',\n",
       " 'https://bbc.in/3otRrfX',\n",
       " 'https://bbc.in/3qTpu2M',\n",
       " 'https://bbc.in/36hPGfV',\n",
       " 'https://bbc.in/3orlJju',\n",
       " 'https://bbc.in/3onwfrZ',\n",
       " 'https://bbc.in/3abAx0x',\n",
       " 'https://bbc.in/3pCLyPj',\n",
       " 'https://bbc.in/3sWglZc',\n",
       " 'https://bbc.in/3r0m0fg',\n",
       " 'https://bbc.in/3okWj77',\n",
       " 'https://bbc.in/2YmFFJL',\n",
       " 'https://bbc.in/3iRttdq',\n",
       " 'https://bbc.in/36hPGfV',\n",
       " 'https://bbc.in/3ptBsQv',\n",
       " 'https://bbc.in/36ijs48',\n",
       " 'https://bbc.in/2MthGGc',\n",
       " 'https://bbc.in/2YkX9Gt',\n",
       " 'https://bbc.in/3orlJju',\n",
       " 'https://bbc.in/3onwfrZ',\n",
       " 'https://bbc.in/3abAx0x',\n",
       " 'https://bbc.in/3pCLyPj',\n",
       " 'https://bbc.in/3sWglZc',\n",
       " 'https://bbc.in/3r0m0fg',\n",
       " 'https://bbc.in/3okWj77',\n",
       " 'https://bbc.in/2YmFFJL',\n",
       " 'https://bbc.in/3iRttdq',\n",
       " 'https://bbc.in/3ostLZs',\n",
       " 'https://bbc.in/3ojqGeg',\n",
       " 'https://bbc.in/2M06nph',\n",
       " 'https://bbc.in/39nDL1R',\n",
       " 'https://bbc.in/36hVczc',\n",
       " 'https://bbc.in/3osxnL4',\n",
       " 'https://bbc.in/36k9sHv',\n",
       " 'https://bbc.in/3t0x8uc',\n",
       " 'https://bbc.in/3cexJlY',\n",
       " 'https://bbc.in/3t0iIdF',\n",
       " 'https://bbc.in/3a7dsw4',\n",
       " 'https://bbc.in/3t39ZqT',\n",
       " 'https://bbc.in/2YiWbKV',\n",
       " 'https://bbc.in/3cgQ81Q',\n",
       " 'https://bbc.in/3cgrLkA',\n",
       " 'https://bbc.in/3ooeQzJ',\n",
       " 'https://bbc.in/3sZwwoL',\n",
       " 'https://bbc.in/3qYnHKa',\n",
       " 'https://bbc.in/3oo2Zld',\n",
       " 'https://bbc.in/3aaFir9',\n",
       " 'https://bbc.in/3ac0JYS',\n",
       " 'https://bbc.in/3poh6Iq',\n",
       " 'https://www.bbc.co.uk/news/world-us-canada-55824267',\n",
       " 'https://twitter.com/BBCWorld/status/1354400322358108161',\n",
       " 'https://bbc.in/3a62U09',\n",
       " 'https://bbc.in/3iRS1TH',\n",
       " 'https://bbc.in/2KRr2eq',\n",
       " 'https://bbc.in/2MvtLul',\n",
       " 'https://bbc.in/3iQxsqF',\n",
       " 'https://bbc.in/3onO3DB',\n",
       " 'https://bbc.in/39ku18t',\n",
       " 'https://bbc.in/2YfDFDj',\n",
       " 'https://bbc.in/3sXgATS',\n",
       " 'https://bbc.in/3ojAd57',\n",
       " 'https://bbc.in/3sXKur3',\n",
       " 'https://bbc.in/3ok3i03',\n",
       " 'https://bbc.in/3qVAH3a',\n",
       " 'https://bbc.in/3t2Ra7e',\n",
       " 'https://bbc.in/2Yh4mr7',\n",
       " 'https://bbc.in/3t1e5zN',\n",
       " 'https://bbc.in/3cdXJ0N',\n",
       " 'https://bbc.in/3omigD5',\n",
       " 'https://bbc.in/3plUnwD',\n",
       " 'https://bbc.in/3ojC0ad',\n",
       " 'https://bbc.in/3t2Ra7e',\n",
       " 'https://bbc.in/2Yh4mr7',\n",
       " 'https://bbc.in/2YeNSj4',\n",
       " 'https://bbc.in/3t1e5zN',\n",
       " 'https://bbc.in/2Yhk1Xs',\n",
       " 'https://bbc.in/2LZ55ed',\n",
       " 'https://bbc.in/3cdXJ0N',\n",
       " 'https://bbc.in/3omigD5',\n",
       " 'https://bbc.in/3cfGzQo',\n",
       " 'https://bbc.in/3t1DMQQ',\n",
       " 'https://bbc.in/3a29F38',\n",
       " 'https://bbc.in/3t7w87R',\n",
       " 'http://bbc.in/36fgq0e',\n",
       " 'https://bbc.in/3plUnwD',\n",
       " 'https://bbc.in/39ml7Y4',\n",
       " 'https://bbc.in/3iQbvbo',\n",
       " 'http://bbc.in/2Yjsh9f',\n",
       " 'https://bbc.in/3iVWt40',\n",
       " 'https://bbc.in/3cepmqA',\n",
       " 'https://bbc.in/3cdObTu',\n",
       " 'https://bbc.in/36fvVFz',\n",
       " 'https://bbc.in/3t0WBDZ',\n",
       " 'https://bbc.in/3a7HBvc',\n",
       " 'https://bbc.in/2NzkMJf',\n",
       " 'https://bbc.in/39kUTFz',\n",
       " 'https://bbc.in/3iLbwgO',\n",
       " 'https://bbc.in/3oky899',\n",
       " 'https://bbc.in/2Ygq0Mk',\n",
       " 'https://bbc.in/3om74Gp',\n",
       " 'https://bbc.in/2YfkSrF',\n",
       " 'https://bbc.in/3iLC8hJ',\n",
       " 'https://bbc.in/39l525g',\n",
       " 'https://bbc.in/3iMFsZT',\n",
       " 'https://bbc.in/2Ym2BZz',\n",
       " 'https://bbc.in/3a0a0TY',\n",
       " 'https://bbc.in/3pm2WHB',\n",
       " 'https://bbc.in/3iOPwkV',\n",
       " 'https://bbc.in/3iMXXgM',\n",
       " 'https://bbc.in/3a3gWQd',\n",
       " 'https://bbc.in/3cevvDc',\n",
       " 'https://bbc.in/3cclLcw',\n",
       " 'https://bbc.in/3iOmtOM',\n",
       " 'https://bbc.in/3oknTl3',\n",
       " 'https://bbc.in/3ccPJxc',\n",
       " 'https://bbc.in/2YfpUEE',\n",
       " 'https://bbc.in/3caoe7n',\n",
       " 'https://bbc.in/3pmJwCs',\n",
       " 'https://bbc.in/39i8D3S',\n",
       " 'https://bbc.in/2Mk2ueu',\n",
       " 'https://bbc.in/3sQuhUy',\n",
       " 'https://bbc.in/2M1JaTm',\n",
       " 'https://bbc.in/3ongKAh',\n",
       " 'https://bbc.in/3pj1Uwb',\n",
       " 'https://bbc.in/3sU2jHz',\n",
       " 'https://bbc.in/3iMRDpJ',\n",
       " 'https://bbc.in/3qNH34v',\n",
       " 'https://bbc.in/2M1JaTm',\n",
       " 'http://bbc.in/3iNnV3y',\n",
       " 'https://bbc.in/2M1pHlK',\n",
       " 'http://bbc.in/3sYH1bE',\n",
       " 'https://bbc.in/39cPiB8',\n",
       " 'http://bbc.in/3iNnV3y',\n",
       " 'https://bbc.in/368w11B',\n",
       " 'https://bbc.in/3sT8lbn',\n",
       " 'https://bbc.in/3olpw1H',\n",
       " 'http://bbc.in/3ohMozd',\n",
       " 'https://bbc.in/3qQzWZa',\n",
       " 'http://bbc.in/3phh1Gh',\n",
       " 'http://bbc.in/3piiNqO',\n",
       " 'http://bbc.in/3olpt61',\n",
       " 'http://bbc.in/3pjEk2a',\n",
       " 'https://bbc.in/3a1yNXV',\n",
       " 'https://bbc.in/36bBzIS',\n",
       " 'http://bbc.in/3sTEW0T',\n",
       " 'https://bbc.in/3ohrKPZ',\n",
       " 'https://bbc.in/3iL9D3y',\n",
       " 'https://bbc.in/3pgOYad',\n",
       " 'https://bbc.in/3phh70y',\n",
       " 'http://bbc.in/36ag9vL',\n",
       " 'https://bbc.in/2Yc3SCB',\n",
       " 'https://bbc.in/2ND6k3b',\n",
       " 'https://bbc.in/3sTUD85',\n",
       " 'https://bbc.in/3a5V8DL',\n",
       " 'https://bbc.in/3qPbxmK',\n",
       " 'https://bbc.in/2KJp8wj',\n",
       " 'https://bbc.in/3c7CfCK',\n",
       " 'https://bbc.in/2M5sQB0',\n",
       " 'https://bbc.in/3pf0Uck',\n",
       " 'https://bbc.in/3qTgZVJ',\n",
       " 'https://bbc.in/3oiEYvA',\n",
       " 'https://bbc.in/3sT5Zt0',\n",
       " 'https://bbc.in/3c8hbw1',\n",
       " 'https://bbc.in/3ogkMdY',\n",
       " 'https://bbc.in/3iJ6i4Z',\n",
       " 'https://bbc.in/3a2ej10',\n",
       " 'https://bbc.in/367IVgq',\n",
       " 'https://bbc.in/2Mqhwzy',\n",
       " 'https://bbc.in/2YbndE8',\n",
       " 'https://bbc.in/3iPWGWo',\n",
       " 'https://bbc.in/364nI7d',\n",
       " 'https://bbc.in/39YyHAi',\n",
       " 'https://bbc.in/39Y11ml',\n",
       " 'https://bbc.in/369NmHI',\n",
       " 'https://bbc.in/3a3IgOn',\n",
       " 'https://bbc.in/2LSCE1u',\n",
       " 'https://bbc.in/3iG8URc',\n",
       " 'https://bbc.in/3odGa3p',\n",
       " 'https://bbc.in/39crMnF',\n",
       " 'https://bbc.in/36b5y3z',\n",
       " 'https://bbc.in/39cjAE0',\n",
       " 'https://bbc.in/2KPMRew',\n",
       " 'https://bbc.in/3iIQ7ok',\n",
       " 'https://bbc.in/3qSnWq3',\n",
       " 'https://bbc.in/36bdphB',\n",
       " 'https://bbc.in/3qO6brP',\n",
       " 'https://bbc.in/3iG8URc',\n",
       " 'https://bbc.in/3pfJLPV',\n",
       " 'https://bbc.in/39WaomA',\n",
       " 'https://bbc.in/3pa8apU',\n",
       " 'https://bbc.in/39Vlvfr',\n",
       " 'https://bbc.in/3pe5bwL',\n",
       " 'https://bbc.in/369RAPr',\n",
       " 'https://bbc.in/2NwPG57',\n",
       " 'https://bbc.in/3a10jEU',\n",
       " 'https://bbc.in/3iIP7Rk',\n",
       " 'https://bbc.in/3iFtSj8',\n",
       " 'https://bbc.in/2Y7Tqfx',\n",
       " 'https://bbc.in/2Mg6soy',\n",
       " 'https://bbc.in/39T0UbC',\n",
       " 'https://bbc.in/2Yc5nRj',\n",
       " 'https://bbc.in/3sR6svX',\n",
       " 'https://bbc.in/2KJkQFp',\n",
       " 'https://bbc.in/3a2PBxs',\n",
       " 'https://bbc.in/2M0hjD1',\n",
       " 'https://bbc.in/2M2eXUa',\n",
       " 'https://bbc.in/2M2szyN',\n",
       " 'https://bbc.in/2Y6cmej',\n",
       " 'https://bbc.in/2M2eXUa',\n",
       " 'https://bbc.in/2M2szyN',\n",
       " 'https://bbc.in/367VDMi',\n",
       " 'https://bbc.in/2Y6cmej',\n",
       " 'https://bbc.in/39X0ilf',\n",
       " 'https://bbc.in/3iHy3e9',\n",
       " 'https://bbc.in/2MfWgw8',\n",
       " 'https://bbc.in/2Y7qZhz',\n",
       " 'https://bbc.in/3iFHwTm',\n",
       " 'https://bbc.in/2LO5S1t',\n",
       " 'https://bbc.in/3oc83IY',\n",
       " 'https://bbc.in/366F975',\n",
       " 'https://bbc.in/3qLqGW5',\n",
       " 'http://bbc.in/39QLynY',\n",
       " 'https://bbc.in/3qKTiid',\n",
       " 'https://bbc.in/2M0k4Em',\n",
       " 'https://bbc.in/363SKfx',\n",
       " 'https://bbc.in/3c34suw',\n",
       " 'https://bbc.in/3sPTTkr',\n",
       " 'https://bbc.in/2Y5k5JL',\n",
       " 'https://bbc.in/3iCcb3Y',\n",
       " 'https://bbc.in/366WUD9',\n",
       " 'https://bbc.in/3caQp6p',\n",
       " 'https://bbc.in/2NoKr7j',\n",
       " 'https://bbc.in/39Vfv6f',\n",
       " 'https://bbc.in/2MiLjty',\n",
       " 'https://bbc.in/2NoKr7j',\n",
       " 'https://bbc.in/2NxAtkp',\n",
       " 'https://bbc.in/367u9X1',\n",
       " 'https://bbc.in/3o7CJer',\n",
       " 'https://bbc.in/3iBK1WV',\n",
       " 'https://bbc.in/365h9kE',\n",
       " 'https://bbc.in/39Vfv6f',\n",
       " 'https://bbc.in/3c0PJAd',\n",
       " 'https://bbc.in/362P5hQ',\n",
       " 'https://bbc.in/2MiLjty',\n",
       " 'http://bbc.in/3oa673Y',\n",
       " 'http://bbc.in/3oa673Y',\n",
       " 'https://bbc.in/36lHQSz',\n",
       " 'https://bbc.in/3qHvwn5',\n",
       " 'https://bbc.in/3p4QjRc',\n",
       " 'https://bbc.in/39Wf1ge',\n",
       " 'https://bbc.in/395FR6m',\n",
       " 'https://bbc.in/39UgHHc',\n",
       " 'https://bbc.in/3qFs3pe',\n",
       " 'https://bbc.in/3sKZnwR',\n",
       " 'https://bbc.in/3plk8xf',\n",
       " 'https://bbc.in/3izuJC2',\n",
       " 'https://bbc.in/36kR95d',\n",
       " 'https://bbc.in/39WKIpI',\n",
       " 'http://bbc.in/2LV3rKn',\n",
       " 'https://bbc.in/3sOR9nm',\n",
       " 'https://bbc.in/363hrIG',\n",
       " 'https://bbc.in/397Nidf',\n",
       " 'http://bbc.in/3qAonoK',\n",
       " 'https://bbc.in/39Y68mi',\n",
       " 'http://bbc.in/3c2VgpS',\n",
       " 'http://bbc.in/2LV3rKn',\n",
       " 'https://bbc.in/2M83EJX',\n",
       " 'https://bbc.in/393TAuC',\n",
       " 'https://bbc.in/2Y5WXed',\n",
       " 'http://bbc.in/3iBYB0n',\n",
       " 'https://bbc.in/362i4Tb',\n",
       " 'https://bbc.in/3o26xJy',\n",
       " 'http://bbc.in/394jD4P',\n",
       " 'https://bbc.in/3ceHl0n',\n",
       " 'http://bbc.in/3p8NOxn',\n",
       " 'http://bbc.in/3631cvq',\n",
       " 'https://bbc.in/2Ntsox1',\n",
       " 'http://bbc.in/36287Fk',\n",
       " 'https://bbc.in/3sHgTCl',\n",
       " 'https://bbc.in/361E28R',\n",
       " 'https://bbc.in/3iAaXX9',\n",
       " 'https://bbc.in/363iM2e',\n",
       " 'https://bbc.in/3o2Jcr3',\n",
       " 'https://bbc.in/39RV5Lr',\n",
       " 'https://bbc.in/395zoZe',\n",
       " 'https://bbc.in/396o2nN',\n",
       " 'https://bbc.in/3c4y5vs',\n",
       " 'https://bbc.in/3iHw4qn',\n",
       " 'https://bbc.in/3o4CGQz',\n",
       " 'https://bbc.in/360XxhN',\n",
       " 'https://bbc.in/39RV765',\n",
       " 'https://bbc.in/3bY1MhO',\n",
       " 'https://bbc.in/3o6gdmu',\n",
       " 'https://bbc.in/3c2zoLE',\n",
       " 'https://bbc.in/39RubTX',\n",
       " 'https://bbc.in/3qHWStn',\n",
       " 'https://bbc.in/39RqZrr',\n",
       " 'https://bbc.in/3sHgTCl',\n",
       " 'https://bbc.in/39XlCqI',\n",
       " 'https://bbc.in/3iDfCHQ',\n",
       " 'https://bbc.in/3qHNeHb',\n",
       " 'https://bbc.in/3iBlD7z',\n",
       " 'https://bbc.in/3sNdd1S',\n",
       " 'https://bbc.in/2M85hY6',\n",
       " 'https://bbc.in/361E28R',\n",
       " 'https://bbc.in/2Ky7njw',\n",
       " 'https://bbc.in/3iAaXX9',\n",
       " 'https://bbc.in/3sDKhJs',\n",
       " 'http://bbc.in/2NfEmtR',\n",
       " 'http://bbc.in/2NfEmtR',\n",
       " 'http://bbc.in/2NfEmtR',\n",
       " 'https://bbc.in/3sFns8p',\n",
       " 'https://bbc.in/2Y0Udi5',\n",
       " 'https://bbc.in/3p50ntF',\n",
       " 'https://bbc.in/3pa6s80',\n",
       " 'https://bbc.in/2NgSEue',\n",
       " 'https://bbc.in/3bYjZvC',\n",
       " 'https://bbc.in/393MJkL',\n",
       " 'https://bbc.in/2M8TPvh',\n",
       " 'https://bbc.in/3iyx8wE',\n",
       " 'https://bbc.in/2LUzTfZ',\n",
       " 'http://bbc.in/3iATPAy',\n",
       " 'http://bbc.in/3izZGFW',\n",
       " 'https://bbc.in/2Y02FhB',\n",
       " 'http://bbc.in/2XXKEQT',\n",
       " 'https://bbc.in/3ixFCnO',\n",
       " 'http://bbc.in/3nXU6hW',\n",
       " 'http://bbc.in/2MeysZK',\n",
       " 'http://bbc.in/3iEpTmX',\n",
       " 'http://bbc.in/2Mb9YAx',\n",
       " 'http://bbc.in/3p88jdm',\n",
       " 'https://bbc.in/2Y2OqZj',\n",
       " 'http://bbc.in/39OooPb',\n",
       " 'http://bbc.in/35ZeLvT',\n",
       " 'http://bbc.in/3iyZG9j',\n",
       " 'http://bbc.in/35VrXlt',\n",
       " 'http://bbc.in/39PSWzX',\n",
       " 'http://bbc.in/39PRdut',\n",
       " 'http://bbc.in/3sNgBdc',\n",
       " 'http://bbc.in/3iuXTCi',\n",
       " 'http://bbc.in/390zvFt',\n",
       " 'http://bbc.in/2Y0GHuY',\n",
       " 'http://bbc.in/3sENAQR',\n",
       " 'https://bbc.in/393mpHz',\n",
       " 'https://bbc.in/3o3fvq7',\n",
       " 'https://bbc.in/3sJHj6s',\n",
       " 'https://bbc.in/3iuOwCo',\n",
       " 'https://bbc.in/3pauRKQ',\n",
       " 'https://bbc.in/3o2uj8l',\n",
       " 'https://bbc.in/3o1SNyr',\n",
       " 'https://bbc.in/362faNY',\n",
       " 'https://bbc.in/2NpUeu3',\n",
       " 'https://bbc.in/39Rbv6P',\n",
       " 'https://bbc.in/3o7kOo9',\n",
       " 'https://bbc.in/3qFj1bW',\n",
       " 'https://bbc.in/3sJHj6s',\n",
       " 'https://bbc.in/390Lwus',\n",
       " 'https://bbc.in/3qFkkHO',\n",
       " 'https://bbc.in/2LRD5c3',\n",
       " 'https://bbc.in/2LTf98n',\n",
       " ...]"
      ]
     },
     "execution_count": 17,
     "metadata": {},
     "output_type": "execute_result"
    }
   ],
   "source": [
    "all_tweets_urls"
   ]
  },
  {
   "cell_type": "markdown",
   "metadata": {},
   "source": [
    "Given above are the links of the news articles"
   ]
  },
  {
   "cell_type": "markdown",
   "metadata": {},
   "source": [
    "Display the number of links retrieved"
   ]
  },
  {
   "cell_type": "code",
   "execution_count": 18,
   "metadata": {},
   "outputs": [
    {
     "data": {
      "text/plain": [
       "2721"
      ]
     },
     "execution_count": 18,
     "metadata": {},
     "output_type": "execute_result"
    }
   ],
   "source": [
    "len(all_tweets_urls)"
   ]
  },
  {
   "cell_type": "markdown",
   "metadata": {},
   "source": [
    "When 3000 articles were supposed to be collected from BBC and CNN collectively only 2721 articles were collected."
   ]
  },
  {
   "cell_type": "markdown",
   "metadata": {},
   "source": [
    "Next duplicate links were removed"
   ]
  },
  {
   "cell_type": "code",
   "execution_count": 22,
   "metadata": {},
   "outputs": [
    {
     "name": "stdout",
     "output_type": "stream",
     "text": [
      "2647\n"
     ]
    }
   ],
   "source": [
    "unique_urls = list(dict.fromkeys(all_tweets_urls))\n",
    "print(len(unique_urls)) "
   ]
  },
  {
   "cell_type": "markdown",
   "metadata": {},
   "source": [
    "The number of unique urls was 2647"
   ]
  },
  {
   "cell_type": "code",
   "execution_count": 23,
   "metadata": {},
   "outputs": [],
   "source": [
    "from newspaper import Article"
   ]
  },
  {
   "cell_type": "markdown",
   "metadata": {},
   "source": [
    "Using the Newspaper3k library for article scraping, the title and the text of each of the links were obtained and stored in the dataframe title_text_df. "
   ]
  },
  {
   "cell_type": "code",
   "execution_count": 26,
   "metadata": {},
   "outputs": [],
   "source": [
    "title_text_df = pd.DataFrame(columns=['Title','text'])\n",
    "\n",
    "for i in range(0, len(unique_urls)):\n",
    "    try:\n",
    "        a = Article(unique_urls[i])\n",
    "        a.download()\n",
    "        a.parse()\n",
    "        a.text\n",
    "        data = {'Title':a.title,\n",
    "                  'text':a.text}\n",
    "        title_text_df= title_text_df.append(data, ignore_index=True)\n",
    "   \n",
    "    except:\n",
    "        False"
   ]
  },
  {
   "cell_type": "markdown",
   "metadata": {},
   "source": [
    "display the number of records to which the title and text were retrieved"
   ]
  },
  {
   "cell_type": "code",
   "execution_count": 27,
   "metadata": {},
   "outputs": [
    {
     "data": {
      "text/plain": [
       "2460"
      ]
     },
     "execution_count": 27,
     "metadata": {},
     "output_type": "execute_result"
    }
   ],
   "source": [
    "len(title_text_df)"
   ]
  },
  {
   "cell_type": "markdown",
   "metadata": {},
   "source": [
    "For some links, the title and the body of the web page could not be retrieved. Therefore only content of 2460 links were retrieved. Code given below displays the Title and the text retrieved."
   ]
  },
  {
   "cell_type": "code",
   "execution_count": 29,
   "metadata": {},
   "outputs": [
    {
     "data": {
      "text/html": [
       "<div>\n",
       "<style scoped>\n",
       "    .dataframe tbody tr th:only-of-type {\n",
       "        vertical-align: middle;\n",
       "    }\n",
       "\n",
       "    .dataframe tbody tr th {\n",
       "        vertical-align: top;\n",
       "    }\n",
       "\n",
       "    .dataframe thead th {\n",
       "        text-align: right;\n",
       "    }\n",
       "</style>\n",
       "<table border=\"1\" class=\"dataframe\">\n",
       "  <thead>\n",
       "    <tr style=\"text-align: right;\">\n",
       "      <th></th>\n",
       "      <th>Title</th>\n",
       "      <th>text</th>\n",
       "    </tr>\n",
       "  </thead>\n",
       "  <tbody>\n",
       "    <tr>\n",
       "      <td>0</td>\n",
       "      <td>Uttarakhand dam disaster: 'The most difficult ...</td>\n",
       "      <td>At first they thought that a gas cylinder had ...</td>\n",
       "    </tr>\n",
       "    <tr>\n",
       "      <td>1</td>\n",
       "      <td>Bitcoin sets fresh records after Elon Musk inv...</td>\n",
       "      <td>The cryptocurrency has already risen in value ...</td>\n",
       "    </tr>\n",
       "    <tr>\n",
       "      <td>2</td>\n",
       "      <td>Trump impeachment: The terror of being trapped...</td>\n",
       "      <td>Three members of the US Congress describe in v...</td>\n",
       "    </tr>\n",
       "    <tr>\n",
       "      <td>3</td>\n",
       "      <td>Maori MP ejected from NZ parliament for refusi...</td>\n",
       "      <td>Mr Mallard has said he personally supports a c...</td>\n",
       "    </tr>\n",
       "    <tr>\n",
       "      <td>4</td>\n",
       "      <td>Covid: WHO team says 'extremely unlikely' viru...</td>\n",
       "      <td>It was unlikely that the expert group, in its ...</td>\n",
       "    </tr>\n",
       "    <tr>\n",
       "      <td>...</td>\n",
       "      <td>...</td>\n",
       "      <td>...</td>\n",
       "    </tr>\n",
       "    <tr>\n",
       "      <td>2455</td>\n",
       "      <td>Joe Biden's authority is on the line already i...</td>\n",
       "      <td>(CNN) As his first full week in the White Hous...</td>\n",
       "    </tr>\n",
       "    <tr>\n",
       "      <td>2456</td>\n",
       "      <td>Foreign companies are giving up on the United ...</td>\n",
       "      <td>New York (CNN Business) Foreign companies are ...</td>\n",
       "    </tr>\n",
       "    <tr>\n",
       "      <td>2457</td>\n",
       "      <td>History made: Renewable energy surpassed fossi...</td>\n",
       "      <td>New York (CNN Business) Europeans got more of ...</td>\n",
       "    </tr>\n",
       "    <tr>\n",
       "      <td>2458</td>\n",
       "      <td>Biden signs executive order aimed at strengthe...</td>\n",
       "      <td>Washington (CNN) President Joe Biden signed an...</td>\n",
       "    </tr>\n",
       "    <tr>\n",
       "      <td>2459</td>\n",
       "      <td>Alleged Capitol rioter's brother is a Secret S...</td>\n",
       "      <td>(CNN) The brother of an alleged US Capitol rio...</td>\n",
       "    </tr>\n",
       "  </tbody>\n",
       "</table>\n",
       "<p>2460 rows × 2 columns</p>\n",
       "</div>"
      ],
      "text/plain": [
       "                                                  Title  \\\n",
       "0     Uttarakhand dam disaster: 'The most difficult ...   \n",
       "1     Bitcoin sets fresh records after Elon Musk inv...   \n",
       "2     Trump impeachment: The terror of being trapped...   \n",
       "3     Maori MP ejected from NZ parliament for refusi...   \n",
       "4     Covid: WHO team says 'extremely unlikely' viru...   \n",
       "...                                                 ...   \n",
       "2455  Joe Biden's authority is on the line already i...   \n",
       "2456  Foreign companies are giving up on the United ...   \n",
       "2457  History made: Renewable energy surpassed fossi...   \n",
       "2458  Biden signs executive order aimed at strengthe...   \n",
       "2459  Alleged Capitol rioter's brother is a Secret S...   \n",
       "\n",
       "                                                   text  \n",
       "0     At first they thought that a gas cylinder had ...  \n",
       "1     The cryptocurrency has already risen in value ...  \n",
       "2     Three members of the US Congress describe in v...  \n",
       "3     Mr Mallard has said he personally supports a c...  \n",
       "4     It was unlikely that the expert group, in its ...  \n",
       "...                                                 ...  \n",
       "2455  (CNN) As his first full week in the White Hous...  \n",
       "2456  New York (CNN Business) Foreign companies are ...  \n",
       "2457  New York (CNN Business) Europeans got more of ...  \n",
       "2458  Washington (CNN) President Joe Biden signed an...  \n",
       "2459  (CNN) The brother of an alleged US Capitol rio...  \n",
       "\n",
       "[2460 rows x 2 columns]"
      ]
     },
     "execution_count": 29,
     "metadata": {},
     "output_type": "execute_result"
    }
   ],
   "source": [
    "title_text_df"
   ]
  },
  {
   "cell_type": "markdown",
   "metadata": {},
   "source": [
    "Then, any duplicates in title_text_df were removed. "
   ]
  },
  {
   "cell_type": "code",
   "execution_count": 36,
   "metadata": {},
   "outputs": [],
   "source": [
    "title_text_df.drop_duplicates(keep=False,inplace=True)"
   ]
  },
  {
   "cell_type": "markdown",
   "metadata": {},
   "source": [
    "Display the number of records after duplicates were removed"
   ]
  },
  {
   "cell_type": "code",
   "execution_count": 37,
   "metadata": {},
   "outputs": [
    {
     "data": {
      "text/plain": [
       "1599"
      ]
     },
     "execution_count": 37,
     "metadata": {},
     "output_type": "execute_result"
    }
   ],
   "source": [
    "len(title_text_df)"
   ]
  },
  {
   "cell_type": "markdown",
   "metadata": {},
   "source": [
    "After removing the duplicates in the retrieved text, 1599 news articles remained."
   ]
  },
  {
   "cell_type": "markdown",
   "metadata": {},
   "source": [
    "Finally, the title and the body of the news articles were written into a csv file named articles.csv."
   ]
  },
  {
   "cell_type": "code",
   "execution_count": 38,
   "metadata": {},
   "outputs": [],
   "source": [
    "title_text_df.to_csv('articles.csv', index=False, sep=\",\")"
   ]
  },
  {
   "cell_type": "markdown",
   "metadata": {},
   "source": [
    "### Answer (b)"
   ]
  },
  {
   "cell_type": "markdown",
   "metadata": {},
   "source": [
    "In the following code, first the csv file written was read in to a data frame named articles_df."
   ]
  },
  {
   "cell_type": "code",
   "execution_count": 68,
   "metadata": {},
   "outputs": [],
   "source": [
    "articles_df = pd.read_csv('articles.csv')"
   ]
  },
  {
   "cell_type": "markdown",
   "metadata": {},
   "source": [
    "display the data frame"
   ]
  },
  {
   "cell_type": "code",
   "execution_count": 69,
   "metadata": {},
   "outputs": [
    {
     "data": {
      "text/html": [
       "<div>\n",
       "<style scoped>\n",
       "    .dataframe tbody tr th:only-of-type {\n",
       "        vertical-align: middle;\n",
       "    }\n",
       "\n",
       "    .dataframe tbody tr th {\n",
       "        vertical-align: top;\n",
       "    }\n",
       "\n",
       "    .dataframe thead th {\n",
       "        text-align: right;\n",
       "    }\n",
       "</style>\n",
       "<table border=\"1\" class=\"dataframe\">\n",
       "  <thead>\n",
       "    <tr style=\"text-align: right;\">\n",
       "      <th></th>\n",
       "      <th>Title</th>\n",
       "      <th>text</th>\n",
       "    </tr>\n",
       "  </thead>\n",
       "  <tbody>\n",
       "    <tr>\n",
       "      <td>0</td>\n",
       "      <td>Uttarakhand dam disaster: 'The most difficult ...</td>\n",
       "      <td>At first they thought that a gas cylinder had ...</td>\n",
       "    </tr>\n",
       "    <tr>\n",
       "      <td>1</td>\n",
       "      <td>Maori MP ejected from NZ parliament for refusi...</td>\n",
       "      <td>Mr Mallard has said he personally supports a c...</td>\n",
       "    </tr>\n",
       "    <tr>\n",
       "      <td>2</td>\n",
       "      <td>Covid: WHO team says 'extremely unlikely' viru...</td>\n",
       "      <td>It was unlikely that the expert group, in its ...</td>\n",
       "    </tr>\n",
       "    <tr>\n",
       "      <td>3</td>\n",
       "      <td>Trump impeachment: Fact-checking the Senate trial</td>\n",
       "      <td>Mr Trump's lawyers also say he had the right t...</td>\n",
       "    </tr>\n",
       "    <tr>\n",
       "      <td>4</td>\n",
       "      <td>EU vaccine export row: Irish officials to meet...</td>\n",
       "      <td>On 29 January the EU announced it would trigge...</td>\n",
       "    </tr>\n",
       "    <tr>\n",
       "      <td>...</td>\n",
       "      <td>...</td>\n",
       "      <td>...</td>\n",
       "    </tr>\n",
       "    <tr>\n",
       "      <td>1594</td>\n",
       "      <td>Trump adviser says former President not curren...</td>\n",
       "      <td>Washington (CNN) Former President Donald Trump...</td>\n",
       "    </tr>\n",
       "    <tr>\n",
       "      <td>1595</td>\n",
       "      <td>Joe Biden's authority is on the line already i...</td>\n",
       "      <td>(CNN) As his first full week in the White Hous...</td>\n",
       "    </tr>\n",
       "    <tr>\n",
       "      <td>1596</td>\n",
       "      <td>Foreign companies are giving up on the United ...</td>\n",
       "      <td>New York (CNN Business) Foreign companies are ...</td>\n",
       "    </tr>\n",
       "    <tr>\n",
       "      <td>1597</td>\n",
       "      <td>Biden signs executive order aimed at strengthe...</td>\n",
       "      <td>Washington (CNN) President Joe Biden signed an...</td>\n",
       "    </tr>\n",
       "    <tr>\n",
       "      <td>1598</td>\n",
       "      <td>Alleged Capitol rioter's brother is a Secret S...</td>\n",
       "      <td>(CNN) The brother of an alleged US Capitol rio...</td>\n",
       "    </tr>\n",
       "  </tbody>\n",
       "</table>\n",
       "<p>1599 rows × 2 columns</p>\n",
       "</div>"
      ],
      "text/plain": [
       "                                                  Title  \\\n",
       "0     Uttarakhand dam disaster: 'The most difficult ...   \n",
       "1     Maori MP ejected from NZ parliament for refusi...   \n",
       "2     Covid: WHO team says 'extremely unlikely' viru...   \n",
       "3     Trump impeachment: Fact-checking the Senate trial   \n",
       "4     EU vaccine export row: Irish officials to meet...   \n",
       "...                                                 ...   \n",
       "1594  Trump adviser says former President not curren...   \n",
       "1595  Joe Biden's authority is on the line already i...   \n",
       "1596  Foreign companies are giving up on the United ...   \n",
       "1597  Biden signs executive order aimed at strengthe...   \n",
       "1598  Alleged Capitol rioter's brother is a Secret S...   \n",
       "\n",
       "                                                   text  \n",
       "0     At first they thought that a gas cylinder had ...  \n",
       "1     Mr Mallard has said he personally supports a c...  \n",
       "2     It was unlikely that the expert group, in its ...  \n",
       "3     Mr Trump's lawyers also say he had the right t...  \n",
       "4     On 29 January the EU announced it would trigge...  \n",
       "...                                                 ...  \n",
       "1594  Washington (CNN) Former President Donald Trump...  \n",
       "1595  (CNN) As his first full week in the White Hous...  \n",
       "1596  New York (CNN Business) Foreign companies are ...  \n",
       "1597  Washington (CNN) President Joe Biden signed an...  \n",
       "1598  (CNN) The brother of an alleged US Capitol rio...  \n",
       "\n",
       "[1599 rows x 2 columns]"
      ]
     },
     "execution_count": 69,
     "metadata": {},
     "output_type": "execute_result"
    }
   ],
   "source": [
    "articles_df"
   ]
  },
  {
   "cell_type": "markdown",
   "metadata": {},
   "source": [
    "Given above are the titles and the text of the data collected"
   ]
  },
  {
   "cell_type": "code",
   "execution_count": 70,
   "metadata": {},
   "outputs": [],
   "source": [
    "#make a copy of original dataframe\n",
    "articles_data = articles_df.copy()"
   ]
  },
  {
   "cell_type": "markdown",
   "metadata": {},
   "source": [
    "The code given below first removes the non-alphanumeric and the non-whitespace characters from the dataframe. Then, leading and trailing whitespaces are removed. "
   ]
  },
  {
   "cell_type": "code",
   "execution_count": 71,
   "metadata": {},
   "outputs": [],
   "source": [
    "#remove non-alphanumeric and non-whitepsace characters\n",
    "articles_data.Title = articles_data.Title.str.replace(r'[^A-Za-z0-9 ]+', '')\n",
    "articles_data.text = articles_data.text.str.replace(r'[^A-Za-z0-9 ]+', '')\n",
    "\n",
    "#remove leading and trailing whitespace\n",
    "articles_data.Title = articles_data.Title.str.strip()\n",
    "articles_data.text = articles_data.text.str.strip()"
   ]
  },
  {
   "cell_type": "markdown",
   "metadata": {},
   "source": [
    "The code given below removes any extraneous html tags from the dataset"
   ]
  },
  {
   "cell_type": "code",
   "execution_count": 72,
   "metadata": {},
   "outputs": [],
   "source": [
    "#remove extraneous html tags\n",
    "import re\n",
    "clean = re.compile('<.*?>')\n",
    "for a in range(0,len(articles_data)):\n",
    "    articles_data['Title'][a] = re.sub(clean, '', str(articles_data['Title'][a]))\n",
    "    articles_data['text'][a] = re.sub(clean, '', str(articles_data['text'][a]))"
   ]
  },
  {
   "cell_type": "markdown",
   "metadata": {},
   "source": [
    "Display the dataset after the cleaning"
   ]
  },
  {
   "cell_type": "code",
   "execution_count": 73,
   "metadata": {},
   "outputs": [
    {
     "data": {
      "text/html": [
       "<div>\n",
       "<style scoped>\n",
       "    .dataframe tbody tr th:only-of-type {\n",
       "        vertical-align: middle;\n",
       "    }\n",
       "\n",
       "    .dataframe tbody tr th {\n",
       "        vertical-align: top;\n",
       "    }\n",
       "\n",
       "    .dataframe thead th {\n",
       "        text-align: right;\n",
       "    }\n",
       "</style>\n",
       "<table border=\"1\" class=\"dataframe\">\n",
       "  <thead>\n",
       "    <tr style=\"text-align: right;\">\n",
       "      <th></th>\n",
       "      <th>Title</th>\n",
       "      <th>text</th>\n",
       "    </tr>\n",
       "  </thead>\n",
       "  <tbody>\n",
       "    <tr>\n",
       "      <td>0</td>\n",
       "      <td>Uttarakhand dam disaster The most difficult se...</td>\n",
       "      <td>At first they thought that a gas cylinder had ...</td>\n",
       "    </tr>\n",
       "    <tr>\n",
       "      <td>1</td>\n",
       "      <td>Maori MP ejected from NZ parliament for refusi...</td>\n",
       "      <td>Mr Mallard has said he personally supports a c...</td>\n",
       "    </tr>\n",
       "    <tr>\n",
       "      <td>2</td>\n",
       "      <td>Covid WHO team says extremely unlikely virus l...</td>\n",
       "      <td>It was unlikely that the expert group in its p...</td>\n",
       "    </tr>\n",
       "    <tr>\n",
       "      <td>3</td>\n",
       "      <td>Trump impeachment Factchecking the Senate trial</td>\n",
       "      <td>Mr Trumps lawyers also say he had the right to...</td>\n",
       "    </tr>\n",
       "    <tr>\n",
       "      <td>4</td>\n",
       "      <td>EU vaccine export row Irish officials to meet ...</td>\n",
       "      <td>On 29 January the EU announced it would trigge...</td>\n",
       "    </tr>\n",
       "    <tr>\n",
       "      <td>...</td>\n",
       "      <td>...</td>\n",
       "      <td>...</td>\n",
       "    </tr>\n",
       "    <tr>\n",
       "      <td>1594</td>\n",
       "      <td>Trump adviser says former President not curren...</td>\n",
       "      <td>Washington CNN Former President Donald Trump r...</td>\n",
       "    </tr>\n",
       "    <tr>\n",
       "      <td>1595</td>\n",
       "      <td>Joe Bidens authority is on the line already in...</td>\n",
       "      <td>CNN As his first full week in the White House ...</td>\n",
       "    </tr>\n",
       "    <tr>\n",
       "      <td>1596</td>\n",
       "      <td>Foreign companies are giving up on the United ...</td>\n",
       "      <td>New York CNN Business Foreign companies are tu...</td>\n",
       "    </tr>\n",
       "    <tr>\n",
       "      <td>1597</td>\n",
       "      <td>Biden signs executive order aimed at strengthe...</td>\n",
       "      <td>Washington CNN President Joe Biden signed an e...</td>\n",
       "    </tr>\n",
       "    <tr>\n",
       "      <td>1598</td>\n",
       "      <td>Alleged Capitol rioters brother is a Secret Se...</td>\n",
       "      <td>CNN The brother of an alleged US Capitol riote...</td>\n",
       "    </tr>\n",
       "  </tbody>\n",
       "</table>\n",
       "<p>1599 rows × 2 columns</p>\n",
       "</div>"
      ],
      "text/plain": [
       "                                                  Title  \\\n",
       "0     Uttarakhand dam disaster The most difficult se...   \n",
       "1     Maori MP ejected from NZ parliament for refusi...   \n",
       "2     Covid WHO team says extremely unlikely virus l...   \n",
       "3       Trump impeachment Factchecking the Senate trial   \n",
       "4     EU vaccine export row Irish officials to meet ...   \n",
       "...                                                 ...   \n",
       "1594  Trump adviser says former President not curren...   \n",
       "1595  Joe Bidens authority is on the line already in...   \n",
       "1596  Foreign companies are giving up on the United ...   \n",
       "1597  Biden signs executive order aimed at strengthe...   \n",
       "1598  Alleged Capitol rioters brother is a Secret Se...   \n",
       "\n",
       "                                                   text  \n",
       "0     At first they thought that a gas cylinder had ...  \n",
       "1     Mr Mallard has said he personally supports a c...  \n",
       "2     It was unlikely that the expert group in its p...  \n",
       "3     Mr Trumps lawyers also say he had the right to...  \n",
       "4     On 29 January the EU announced it would trigge...  \n",
       "...                                                 ...  \n",
       "1594  Washington CNN Former President Donald Trump r...  \n",
       "1595  CNN As his first full week in the White House ...  \n",
       "1596  New York CNN Business Foreign companies are tu...  \n",
       "1597  Washington CNN President Joe Biden signed an e...  \n",
       "1598  CNN The brother of an alleged US Capitol riote...  \n",
       "\n",
       "[1599 rows x 2 columns]"
      ]
     },
     "execution_count": 73,
     "metadata": {},
     "output_type": "execute_result"
    }
   ],
   "source": [
    "articles_data"
   ]
  },
  {
   "cell_type": "markdown",
   "metadata": {},
   "source": [
    "The output above shows the dataset after the cleaning steps"
   ]
  },
  {
   "cell_type": "markdown",
   "metadata": {},
   "source": [
    "In the following code, the case of the letters of the dataset were all converted to lower case. "
   ]
  },
  {
   "cell_type": "code",
   "execution_count": 74,
   "metadata": {},
   "outputs": [],
   "source": [
    "#convert all characters to lowercase\n",
    "articles_data.Title = articles_data.Title.str.lower()\n",
    "articles_data.text = articles_data.text.str.lower()"
   ]
  },
  {
   "cell_type": "markdown",
   "metadata": {},
   "source": [
    "The following code removed articles for which a body text is absent"
   ]
  },
  {
   "cell_type": "code",
   "execution_count": 75,
   "metadata": {},
   "outputs": [
    {
     "name": "stdout",
     "output_type": "stream",
     "text": [
      "(array([], dtype=int64), array([], dtype=int64))\n"
     ]
    }
   ],
   "source": [
    "#remove articles without a body\n",
    "print(np.where(pd.isnull(articles_data)))\n",
    "articles_data = articles_data.drop([1034,1427,1590])"
   ]
  },
  {
   "cell_type": "markdown",
   "metadata": {},
   "source": [
    "display the dataset"
   ]
  },
  {
   "cell_type": "code",
   "execution_count": 76,
   "metadata": {},
   "outputs": [
    {
     "data": {
      "text/html": [
       "<div>\n",
       "<style scoped>\n",
       "    .dataframe tbody tr th:only-of-type {\n",
       "        vertical-align: middle;\n",
       "    }\n",
       "\n",
       "    .dataframe tbody tr th {\n",
       "        vertical-align: top;\n",
       "    }\n",
       "\n",
       "    .dataframe thead th {\n",
       "        text-align: right;\n",
       "    }\n",
       "</style>\n",
       "<table border=\"1\" class=\"dataframe\">\n",
       "  <thead>\n",
       "    <tr style=\"text-align: right;\">\n",
       "      <th></th>\n",
       "      <th>Title</th>\n",
       "      <th>text</th>\n",
       "    </tr>\n",
       "  </thead>\n",
       "  <tbody>\n",
       "    <tr>\n",
       "      <td>0</td>\n",
       "      <td>uttarakhand dam disaster the most difficult se...</td>\n",
       "      <td>at first they thought that a gas cylinder had ...</td>\n",
       "    </tr>\n",
       "    <tr>\n",
       "      <td>1</td>\n",
       "      <td>maori mp ejected from nz parliament for refusi...</td>\n",
       "      <td>mr mallard has said he personally supports a c...</td>\n",
       "    </tr>\n",
       "    <tr>\n",
       "      <td>2</td>\n",
       "      <td>covid who team says extremely unlikely virus l...</td>\n",
       "      <td>it was unlikely that the expert group in its p...</td>\n",
       "    </tr>\n",
       "    <tr>\n",
       "      <td>3</td>\n",
       "      <td>trump impeachment factchecking the senate trial</td>\n",
       "      <td>mr trumps lawyers also say he had the right to...</td>\n",
       "    </tr>\n",
       "    <tr>\n",
       "      <td>4</td>\n",
       "      <td>eu vaccine export row irish officials to meet ...</td>\n",
       "      <td>on 29 january the eu announced it would trigge...</td>\n",
       "    </tr>\n",
       "    <tr>\n",
       "      <td>...</td>\n",
       "      <td>...</td>\n",
       "      <td>...</td>\n",
       "    </tr>\n",
       "    <tr>\n",
       "      <td>1594</td>\n",
       "      <td>trump adviser says former president not curren...</td>\n",
       "      <td>washington cnn former president donald trump r...</td>\n",
       "    </tr>\n",
       "    <tr>\n",
       "      <td>1595</td>\n",
       "      <td>joe bidens authority is on the line already in...</td>\n",
       "      <td>cnn as his first full week in the white house ...</td>\n",
       "    </tr>\n",
       "    <tr>\n",
       "      <td>1596</td>\n",
       "      <td>foreign companies are giving up on the united ...</td>\n",
       "      <td>new york cnn business foreign companies are tu...</td>\n",
       "    </tr>\n",
       "    <tr>\n",
       "      <td>1597</td>\n",
       "      <td>biden signs executive order aimed at strengthe...</td>\n",
       "      <td>washington cnn president joe biden signed an e...</td>\n",
       "    </tr>\n",
       "    <tr>\n",
       "      <td>1598</td>\n",
       "      <td>alleged capitol rioters brother is a secret se...</td>\n",
       "      <td>cnn the brother of an alleged us capitol riote...</td>\n",
       "    </tr>\n",
       "  </tbody>\n",
       "</table>\n",
       "<p>1596 rows × 2 columns</p>\n",
       "</div>"
      ],
      "text/plain": [
       "                                                  Title  \\\n",
       "0     uttarakhand dam disaster the most difficult se...   \n",
       "1     maori mp ejected from nz parliament for refusi...   \n",
       "2     covid who team says extremely unlikely virus l...   \n",
       "3       trump impeachment factchecking the senate trial   \n",
       "4     eu vaccine export row irish officials to meet ...   \n",
       "...                                                 ...   \n",
       "1594  trump adviser says former president not curren...   \n",
       "1595  joe bidens authority is on the line already in...   \n",
       "1596  foreign companies are giving up on the united ...   \n",
       "1597  biden signs executive order aimed at strengthe...   \n",
       "1598  alleged capitol rioters brother is a secret se...   \n",
       "\n",
       "                                                   text  \n",
       "0     at first they thought that a gas cylinder had ...  \n",
       "1     mr mallard has said he personally supports a c...  \n",
       "2     it was unlikely that the expert group in its p...  \n",
       "3     mr trumps lawyers also say he had the right to...  \n",
       "4     on 29 january the eu announced it would trigge...  \n",
       "...                                                 ...  \n",
       "1594  washington cnn former president donald trump r...  \n",
       "1595  cnn as his first full week in the white house ...  \n",
       "1596  new york cnn business foreign companies are tu...  \n",
       "1597  washington cnn president joe biden signed an e...  \n",
       "1598  cnn the brother of an alleged us capitol riote...  \n",
       "\n",
       "[1596 rows x 2 columns]"
      ]
     },
     "execution_count": 76,
     "metadata": {},
     "output_type": "execute_result"
    }
   ],
   "source": [
    "articles_data"
   ]
  },
  {
   "cell_type": "markdown",
   "metadata": {},
   "source": [
    "Given above is the output of the dataset. As it can be seen clearly, the case of the dataset has been changed to lower case. "
   ]
  },
  {
   "cell_type": "code",
   "execution_count": 77,
   "metadata": {},
   "outputs": [],
   "source": [
    "#make a copy of the cleaned data\n",
    "cleaned_articles = articles_data.copy()"
   ]
  },
  {
   "cell_type": "markdown",
   "metadata": {},
   "source": [
    "The code given below tokenize the data into individual words"
   ]
  },
  {
   "cell_type": "code",
   "execution_count": 78,
   "metadata": {},
   "outputs": [],
   "source": [
    "#tokenize the cleaned data\n",
    "articles_data.Title = articles_data.apply(lambda row: nltk.word_tokenize(row['Title']), axis=1)\n",
    "articles_data.text = articles_data.apply(lambda row: nltk.word_tokenize(row['text']), axis=1)"
   ]
  },
  {
   "cell_type": "markdown",
   "metadata": {},
   "source": [
    "display the dataframe"
   ]
  },
  {
   "cell_type": "code",
   "execution_count": 79,
   "metadata": {},
   "outputs": [
    {
     "data": {
      "text/html": [
       "<div>\n",
       "<style scoped>\n",
       "    .dataframe tbody tr th:only-of-type {\n",
       "        vertical-align: middle;\n",
       "    }\n",
       "\n",
       "    .dataframe tbody tr th {\n",
       "        vertical-align: top;\n",
       "    }\n",
       "\n",
       "    .dataframe thead th {\n",
       "        text-align: right;\n",
       "    }\n",
       "</style>\n",
       "<table border=\"1\" class=\"dataframe\">\n",
       "  <thead>\n",
       "    <tr style=\"text-align: right;\">\n",
       "      <th></th>\n",
       "      <th>Title</th>\n",
       "      <th>text</th>\n",
       "    </tr>\n",
       "  </thead>\n",
       "  <tbody>\n",
       "    <tr>\n",
       "      <td>0</td>\n",
       "      <td>[uttarakhand, dam, disaster, the, most, diffic...</td>\n",
       "      <td>[at, first, they, thought, that, a, gas, cylin...</td>\n",
       "    </tr>\n",
       "    <tr>\n",
       "      <td>1</td>\n",
       "      <td>[maori, mp, ejected, from, nz, parliament, for...</td>\n",
       "      <td>[mr, mallard, has, said, he, personally, suppo...</td>\n",
       "    </tr>\n",
       "    <tr>\n",
       "      <td>2</td>\n",
       "      <td>[covid, who, team, says, extremely, unlikely, ...</td>\n",
       "      <td>[it, was, unlikely, that, the, expert, group, ...</td>\n",
       "    </tr>\n",
       "    <tr>\n",
       "      <td>3</td>\n",
       "      <td>[trump, impeachment, factchecking, the, senate...</td>\n",
       "      <td>[mr, trumps, lawyers, also, say, he, had, the,...</td>\n",
       "    </tr>\n",
       "    <tr>\n",
       "      <td>4</td>\n",
       "      <td>[eu, vaccine, export, row, irish, officials, t...</td>\n",
       "      <td>[on, 29, january, the, eu, announced, it, woul...</td>\n",
       "    </tr>\n",
       "    <tr>\n",
       "      <td>...</td>\n",
       "      <td>...</td>\n",
       "      <td>...</td>\n",
       "    </tr>\n",
       "    <tr>\n",
       "      <td>1594</td>\n",
       "      <td>[trump, adviser, says, former, president, not,...</td>\n",
       "      <td>[washington, cnn, former, president, donald, t...</td>\n",
       "    </tr>\n",
       "    <tr>\n",
       "      <td>1595</td>\n",
       "      <td>[joe, bidens, authority, is, on, the, line, al...</td>\n",
       "      <td>[cnn, as, his, first, full, week, in, the, whi...</td>\n",
       "    </tr>\n",
       "    <tr>\n",
       "      <td>1596</td>\n",
       "      <td>[foreign, companies, are, giving, up, on, the,...</td>\n",
       "      <td>[new, york, cnn, business, foreign, companies,...</td>\n",
       "    </tr>\n",
       "    <tr>\n",
       "      <td>1597</td>\n",
       "      <td>[biden, signs, executive, order, aimed, at, st...</td>\n",
       "      <td>[washington, cnn, president, joe, biden, signe...</td>\n",
       "    </tr>\n",
       "    <tr>\n",
       "      <td>1598</td>\n",
       "      <td>[alleged, capitol, rioters, brother, is, a, se...</td>\n",
       "      <td>[cnn, the, brother, of, an, alleged, us, capit...</td>\n",
       "    </tr>\n",
       "  </tbody>\n",
       "</table>\n",
       "<p>1596 rows × 2 columns</p>\n",
       "</div>"
      ],
      "text/plain": [
       "                                                  Title  \\\n",
       "0     [uttarakhand, dam, disaster, the, most, diffic...   \n",
       "1     [maori, mp, ejected, from, nz, parliament, for...   \n",
       "2     [covid, who, team, says, extremely, unlikely, ...   \n",
       "3     [trump, impeachment, factchecking, the, senate...   \n",
       "4     [eu, vaccine, export, row, irish, officials, t...   \n",
       "...                                                 ...   \n",
       "1594  [trump, adviser, says, former, president, not,...   \n",
       "1595  [joe, bidens, authority, is, on, the, line, al...   \n",
       "1596  [foreign, companies, are, giving, up, on, the,...   \n",
       "1597  [biden, signs, executive, order, aimed, at, st...   \n",
       "1598  [alleged, capitol, rioters, brother, is, a, se...   \n",
       "\n",
       "                                                   text  \n",
       "0     [at, first, they, thought, that, a, gas, cylin...  \n",
       "1     [mr, mallard, has, said, he, personally, suppo...  \n",
       "2     [it, was, unlikely, that, the, expert, group, ...  \n",
       "3     [mr, trumps, lawyers, also, say, he, had, the,...  \n",
       "4     [on, 29, january, the, eu, announced, it, woul...  \n",
       "...                                                 ...  \n",
       "1594  [washington, cnn, former, president, donald, t...  \n",
       "1595  [cnn, as, his, first, full, week, in, the, whi...  \n",
       "1596  [new, york, cnn, business, foreign, companies,...  \n",
       "1597  [washington, cnn, president, joe, biden, signe...  \n",
       "1598  [cnn, the, brother, of, an, alleged, us, capit...  \n",
       "\n",
       "[1596 rows x 2 columns]"
      ]
     },
     "execution_count": 79,
     "metadata": {},
     "output_type": "execute_result"
    }
   ],
   "source": [
    "articles_data"
   ]
  },
  {
   "cell_type": "markdown",
   "metadata": {},
   "source": [
    "As it can be seen in the above output, the text has been tokenized into individual words"
   ]
  },
  {
   "cell_type": "markdown",
   "metadata": {},
   "source": [
    "The code given below first adds all text in the body of the article into the list named all_tokens"
   ]
  },
  {
   "cell_type": "code",
   "execution_count": 80,
   "metadata": {},
   "outputs": [],
   "source": [
    "all_tokens = []\n",
    "\n",
    "for record in articles_data['text']:\n",
    "    all_tokens.extend(record)"
   ]
  },
  {
   "cell_type": "markdown",
   "metadata": {},
   "source": [
    "The get_length(df) function given below displays the total number of words in a corpus. The get_unique(df) function will get the number of unique words in the corpus. "
   ]
  },
  {
   "cell_type": "code",
   "execution_count": 81,
   "metadata": {},
   "outputs": [],
   "source": [
    "#function to get total number of words\n",
    "def get_length(df):\n",
    "    print('Total number of words is: ',len(df) )\n",
    "\n",
    "#function to get unique words in the corpus\n",
    "def get_unique(df):\n",
    "    print('Number of unique words is: ',len(list(set(df))))"
   ]
  },
  {
   "cell_type": "markdown",
   "metadata": {},
   "source": [
    "Display the total number of words in the body of the articles"
   ]
  },
  {
   "cell_type": "code",
   "execution_count": 82,
   "metadata": {},
   "outputs": [
    {
     "name": "stdout",
     "output_type": "stream",
     "text": [
      "Total number of words is:  562039\n"
     ]
    }
   ],
   "source": [
    "#get total number of words in the body\n",
    "get_length(all_tokens)"
   ]
  },
  {
   "cell_type": "markdown",
   "metadata": {},
   "source": [
    "The body of the articles have 562039 words"
   ]
  },
  {
   "cell_type": "markdown",
   "metadata": {},
   "source": [
    "The following code displays the unique words in the body of the articles"
   ]
  },
  {
   "cell_type": "code",
   "execution_count": 83,
   "metadata": {},
   "outputs": [
    {
     "name": "stdout",
     "output_type": "stream",
     "text": [
      "Number of unique words is:  39713\n"
     ]
    }
   ],
   "source": [
    "#get unique words in body\n",
    "get_unique(all_tokens)"
   ]
  },
  {
   "cell_type": "markdown",
   "metadata": {},
   "source": [
    "In the body of articles, there are 39713 unique words"
   ]
  },
  {
   "cell_type": "markdown",
   "metadata": {},
   "source": [
    "The code given below adds the words in the titles of the articles. Now all tokens contain all the words in the articles"
   ]
  },
  {
   "cell_type": "code",
   "execution_count": 84,
   "metadata": {},
   "outputs": [],
   "source": [
    "#add the titles of the articles into all_tokens list\n",
    "for record in articles_data['Title']:\n",
    "    all_tokens.extend(record)"
   ]
  },
  {
   "cell_type": "markdown",
   "metadata": {},
   "source": [
    "The following code displays the total number of words in the articles"
   ]
  },
  {
   "cell_type": "code",
   "execution_count": 85,
   "metadata": {},
   "outputs": [
    {
     "name": "stdout",
     "output_type": "stream",
     "text": [
      "Total number of words is:  578933\n"
     ]
    }
   ],
   "source": [
    "#get all words in body and title\n",
    "get_length(all_tokens)"
   ]
  },
  {
   "cell_type": "markdown",
   "metadata": {},
   "source": [
    "The total number of words in the corpus is 578933 words"
   ]
  },
  {
   "cell_type": "markdown",
   "metadata": {},
   "source": [
    "The following code displays the unique words in the articles"
   ]
  },
  {
   "cell_type": "code",
   "execution_count": 86,
   "metadata": {},
   "outputs": [
    {
     "name": "stdout",
     "output_type": "stream",
     "text": [
      "Number of unique words is:  40256\n"
     ]
    }
   ],
   "source": [
    "#get unique words in the combined corpus of title and body\n",
    "get_unique(all_tokens)"
   ]
  },
  {
   "cell_type": "markdown",
   "metadata": {},
   "source": [
    "The number of unique words in the corpus is 40256 words"
   ]
  },
  {
   "cell_type": "markdown",
   "metadata": {},
   "source": [
    "### Answer (c)"
   ]
  },
  {
   "cell_type": "code",
   "execution_count": 91,
   "metadata": {},
   "outputs": [
    {
     "name": "stderr",
     "output_type": "stream",
     "text": [
      "[nltk_data] Downloading package stopwords to\n",
      "[nltk_data]     /home/dinithiw/nltk_data...\n",
      "[nltk_data]   Package stopwords is already up-to-date!\n"
     ]
    },
    {
     "data": {
      "text/plain": [
       "True"
      ]
     },
     "execution_count": 91,
     "metadata": {},
     "output_type": "execute_result"
    }
   ],
   "source": [
    "nltk.download('stopwords')"
   ]
  },
  {
   "cell_type": "markdown",
   "metadata": {},
   "source": [
    "The function given below is used to get minimum and maximum length of article length. The dataframe is passed as a parameter. Initially the minimum is set to the length of the first article maximum is set to zero. Then each article is iterated to find the actual minimum and maximum"
   ]
  },
  {
   "cell_type": "code",
   "execution_count": 87,
   "metadata": {},
   "outputs": [],
   "source": [
    "def min_max(df):\n",
    "    \n",
    "    minimum = len(articles_data.iloc[0].Title)+ len(articles_data.iloc[0].text)\n",
    "    a_index = 0\n",
    "    maximum = 0\n",
    "    length = 0\n",
    "    \n",
    "    for a in range(0,len(df)):\n",
    "        length = len(df.iloc[a].Title) + len(df.iloc[a].text)\n",
    "        \n",
    "        if length > maximum:\n",
    "            maximum = length\n",
    "        \n",
    "        if length < minimum:\n",
    "            minimum = length\n",
    "    \n",
    "    print(\"Minimum length: \", minimum)\n",
    "    print(\"Maximum length: \", maximum)"
   ]
  },
  {
   "cell_type": "markdown",
   "metadata": {},
   "source": [
    "The function given below calculates the total number of words and the number of unique words when the dataframe is given. First a list called unique_words is created. Then each record is iterated word by word. When a word is encountered the words variable is incremented by one. If the word is not yet added to unique_words[] then it will be appended to the list. Finally the total number of words and the number of unique words will be printed."
   ]
  },
  {
   "cell_type": "code",
   "execution_count": 88,
   "metadata": {},
   "outputs": [],
   "source": [
    "def counts(df):\n",
    "    \n",
    "    words = 0\n",
    "    unique_words = []\n",
    "    for a in range(0,len(df)):\n",
    "        words += (len(df.iloc[a].Title) + len(df.iloc[a].text))\n",
    "        for i in df.iloc[a].Title + df.iloc[a].text:\n",
    "            if i not in unique_words:\n",
    "                unique_words.append(i)\n",
    "    \n",
    "    print('Total number of words: ',words)\n",
    "    print('Unique number of words: ',len(unique_words))"
   ]
  },
  {
   "cell_type": "markdown",
   "metadata": {},
   "source": [
    "The code given below will get the stop_words list using the import stopwords"
   ]
  },
  {
   "cell_type": "code",
   "execution_count": 89,
   "metadata": {},
   "outputs": [],
   "source": [
    "from nltk.corpus import stopwords  \n",
    "  \n",
    "stop_words = list(set(stopwords.words('english')))  "
   ]
  },
  {
   "cell_type": "markdown",
   "metadata": {},
   "source": [
    "The following code will remove the words occuring in the dataset which are also stop words"
   ]
  },
  {
   "cell_type": "code",
   "execution_count": 90,
   "metadata": {},
   "outputs": [],
   "source": [
    "articles_data['Title'] = articles_data['Title'].apply(lambda record: [item for item in record if item not in stop_words])\n",
    "articles_data['text'] = articles_data['text'].apply(lambda record: [item for item in record if item not in stop_words])"
   ]
  },
  {
   "cell_type": "markdown",
   "metadata": {},
   "source": [
    "displays the dataset without stop words"
   ]
  },
  {
   "cell_type": "code",
   "execution_count": 91,
   "metadata": {},
   "outputs": [
    {
     "data": {
      "text/html": [
       "<div>\n",
       "<style scoped>\n",
       "    .dataframe tbody tr th:only-of-type {\n",
       "        vertical-align: middle;\n",
       "    }\n",
       "\n",
       "    .dataframe tbody tr th {\n",
       "        vertical-align: top;\n",
       "    }\n",
       "\n",
       "    .dataframe thead th {\n",
       "        text-align: right;\n",
       "    }\n",
       "</style>\n",
       "<table border=\"1\" class=\"dataframe\">\n",
       "  <thead>\n",
       "    <tr style=\"text-align: right;\">\n",
       "      <th></th>\n",
       "      <th>Title</th>\n",
       "      <th>text</th>\n",
       "    </tr>\n",
       "  </thead>\n",
       "  <tbody>\n",
       "    <tr>\n",
       "      <td>0</td>\n",
       "      <td>[uttarakhand, dam, disaster, difficult, seven,...</td>\n",
       "      <td>[first, thought, gas, cylinder, exploded, lead...</td>\n",
       "    </tr>\n",
       "    <tr>\n",
       "      <td>1</td>\n",
       "      <td>[maori, mp, ejected, nz, parliament, refusing,...</td>\n",
       "      <td>[mr, mallard, said, personally, supports, chan...</td>\n",
       "    </tr>\n",
       "    <tr>\n",
       "      <td>2</td>\n",
       "      <td>[covid, team, says, extremely, unlikely, virus...</td>\n",
       "      <td>[unlikely, expert, group, politicallycharged, ...</td>\n",
       "    </tr>\n",
       "    <tr>\n",
       "      <td>3</td>\n",
       "      <td>[trump, impeachment, factchecking, senate, trial]</td>\n",
       "      <td>[mr, trumps, lawyers, also, say, right, expres...</td>\n",
       "    </tr>\n",
       "    <tr>\n",
       "      <td>4</td>\n",
       "      <td>[eu, vaccine, export, row, irish, officials, m...</td>\n",
       "      <td>[29, january, eu, announced, would, trigger, c...</td>\n",
       "    </tr>\n",
       "    <tr>\n",
       "      <td>...</td>\n",
       "      <td>...</td>\n",
       "      <td>...</td>\n",
       "    </tr>\n",
       "    <tr>\n",
       "      <td>1594</td>\n",
       "      <td>[trump, adviser, says, former, president, curr...</td>\n",
       "      <td>[washington, cnn, former, president, donald, t...</td>\n",
       "    </tr>\n",
       "    <tr>\n",
       "      <td>1595</td>\n",
       "      <td>[joe, bidens, authority, line, already, first,...</td>\n",
       "      <td>[cnn, first, full, week, white, house, begins,...</td>\n",
       "    </tr>\n",
       "    <tr>\n",
       "      <td>1596</td>\n",
       "      <td>[foreign, companies, giving, united, states, b...</td>\n",
       "      <td>[new, york, cnn, business, foreign, companies,...</td>\n",
       "    </tr>\n",
       "    <tr>\n",
       "      <td>1597</td>\n",
       "      <td>[biden, signs, executive, order, aimed, streng...</td>\n",
       "      <td>[washington, cnn, president, joe, biden, signe...</td>\n",
       "    </tr>\n",
       "    <tr>\n",
       "      <td>1598</td>\n",
       "      <td>[alleged, capitol, rioters, brother, secret, s...</td>\n",
       "      <td>[cnn, brother, alleged, us, capitol, rioter, u...</td>\n",
       "    </tr>\n",
       "  </tbody>\n",
       "</table>\n",
       "<p>1596 rows × 2 columns</p>\n",
       "</div>"
      ],
      "text/plain": [
       "                                                  Title  \\\n",
       "0     [uttarakhand, dam, disaster, difficult, seven,...   \n",
       "1     [maori, mp, ejected, nz, parliament, refusing,...   \n",
       "2     [covid, team, says, extremely, unlikely, virus...   \n",
       "3     [trump, impeachment, factchecking, senate, trial]   \n",
       "4     [eu, vaccine, export, row, irish, officials, m...   \n",
       "...                                                 ...   \n",
       "1594  [trump, adviser, says, former, president, curr...   \n",
       "1595  [joe, bidens, authority, line, already, first,...   \n",
       "1596  [foreign, companies, giving, united, states, b...   \n",
       "1597  [biden, signs, executive, order, aimed, streng...   \n",
       "1598  [alleged, capitol, rioters, brother, secret, s...   \n",
       "\n",
       "                                                   text  \n",
       "0     [first, thought, gas, cylinder, exploded, lead...  \n",
       "1     [mr, mallard, said, personally, supports, chan...  \n",
       "2     [unlikely, expert, group, politicallycharged, ...  \n",
       "3     [mr, trumps, lawyers, also, say, right, expres...  \n",
       "4     [29, january, eu, announced, would, trigger, c...  \n",
       "...                                                 ...  \n",
       "1594  [washington, cnn, former, president, donald, t...  \n",
       "1595  [cnn, first, full, week, white, house, begins,...  \n",
       "1596  [new, york, cnn, business, foreign, companies,...  \n",
       "1597  [washington, cnn, president, joe, biden, signe...  \n",
       "1598  [cnn, brother, alleged, us, capitol, rioter, u...  \n",
       "\n",
       "[1596 rows x 2 columns]"
      ]
     },
     "execution_count": 91,
     "metadata": {},
     "output_type": "execute_result"
    }
   ],
   "source": [
    "articles_data"
   ]
  },
  {
   "cell_type": "markdown",
   "metadata": {},
   "source": [
    "The following code will count the total number of words and the unique words in the dataset after the stop words have been removed. The second line finds the minimum and the maximum lengths of the articles"
   ]
  },
  {
   "cell_type": "code",
   "execution_count": 92,
   "metadata": {},
   "outputs": [
    {
     "name": "stdout",
     "output_type": "stream",
     "text": [
      "Total number of words:  342645\n",
      "Unique number of words:  40122\n",
      "Minimum length:  9\n",
      "Maximum length:  2581\n"
     ]
    }
   ],
   "source": [
    "counts(articles_data)\n",
    "min_max(articles_data)"
   ]
  },
  {
   "cell_type": "markdown",
   "metadata": {},
   "source": [
    "As shown in the output the total number of words reduced from the previous 578933 to 342645. The number of unique words was found to be 40122. Minimum length of an article was 9 and the maximum was found to be 2581."
   ]
  },
  {
   "cell_type": "markdown",
   "metadata": {},
   "source": [
    "The following code will stem the words. The stemmer used here was Porter Stemmer. Then the total number of words, unique words, minimum and maximum lengths of the articles will be printed"
   ]
  },
  {
   "cell_type": "code",
   "execution_count": 102,
   "metadata": {},
   "outputs": [
    {
     "name": "stdout",
     "output_type": "stream",
     "text": [
      "Total number of words:  342645\n",
      "Unique number of words:  31461\n",
      "Minimum length:  9\n",
      "Maximum length:  2581\n"
     ]
    }
   ],
   "source": [
    "from nltk.stem import PorterStemmer \n",
    "ps = PorterStemmer() \n",
    "\n",
    "articles_data['Title'] = articles_data['Title'].apply(lambda x: [ps.stem(y) for y in x])\n",
    "articles_data['text'] = articles_data['text'].apply(lambda x: [ps.stem(y) for y in x])\n",
    "    \n",
    "counts(articles_data)\n",
    "min_max(articles_data)"
   ]
  },
  {
   "cell_type": "markdown",
   "metadata": {},
   "source": [
    "As shown in the output the total number of words is 342645. The number of unique words was found to be 31461. Minimum length of an article was 9 and the maximum was found to be 2581."
   ]
  },
  {
   "cell_type": "markdown",
   "metadata": {},
   "source": [
    "The code given below is used to get the lengths of the articles and append the lengths into the list sent_lengths[]"
   ]
  },
  {
   "cell_type": "code",
   "execution_count": 96,
   "metadata": {},
   "outputs": [
    {
     "data": {
      "text/plain": [
       "[36,\n",
       " 29,\n",
       " 35,\n",
       " 26,\n",
       " 32,\n",
       " 32,\n",
       " 30,\n",
       " 28,\n",
       " 28,\n",
       " 20,\n",
       " 23,\n",
       " 25,\n",
       " 18,\n",
       " 23,\n",
       " 19,\n",
       " 985,\n",
       " 36,\n",
       " 48,\n",
       " 25,\n",
       " 28,\n",
       " 38,\n",
       " 30,\n",
       " 35,\n",
       " 40,\n",
       " 24,\n",
       " 433,\n",
       " 27,\n",
       " 18,\n",
       " 426,\n",
       " 27,\n",
       " 29,\n",
       " 23,\n",
       " 37,\n",
       " 32,\n",
       " 25,\n",
       " 371,\n",
       " 19,\n",
       " 37,\n",
       " 25,\n",
       " 32,\n",
       " 35,\n",
       " 24,\n",
       " 29,\n",
       " 29,\n",
       " 34,\n",
       " 24,\n",
       " 24,\n",
       " 13,\n",
       " 340,\n",
       " 24,\n",
       " 28,\n",
       " 27,\n",
       " 54,\n",
       " 34,\n",
       " 35,\n",
       " 39,\n",
       " 28,\n",
       " 61,\n",
       " 14,\n",
       " 30,\n",
       " 722,\n",
       " 639,\n",
       " 37,\n",
       " 28,\n",
       " 43,\n",
       " 43,\n",
       " 41,\n",
       " 25,\n",
       " 50,\n",
       " 25,\n",
       " 54,\n",
       " 73,\n",
       " 57,\n",
       " 24,\n",
       " 45,\n",
       " 26,\n",
       " 253,\n",
       " 20,\n",
       " 35,\n",
       " 52,\n",
       " 42,\n",
       " 33,\n",
       " 272,\n",
       " 31,\n",
       " 36,\n",
       " 21,\n",
       " 27,\n",
       " 780,\n",
       " 39,\n",
       " 29,\n",
       " 47,\n",
       " 33,\n",
       " 40,\n",
       " 23,\n",
       " 26,\n",
       " 43,\n",
       " 32,\n",
       " 20,\n",
       " 25,\n",
       " 22,\n",
       " 29,\n",
       " 23,\n",
       " 28,\n",
       " 31,\n",
       " 22,\n",
       " 24,\n",
       " 32,\n",
       " 39,\n",
       " 40,\n",
       " 71,\n",
       " 24,\n",
       " 30,\n",
       " 42,\n",
       " 26,\n",
       " 45,\n",
       " 36,\n",
       " 31,\n",
       " 33,\n",
       " 30,\n",
       " 35,\n",
       " 49,\n",
       " 47,\n",
       " 35,\n",
       " 34,\n",
       " 28,\n",
       " 39,\n",
       " 27,\n",
       " 35,\n",
       " 33,\n",
       " 24,\n",
       " 30,\n",
       " 29,\n",
       " 25,\n",
       " 35,\n",
       " 28,\n",
       " 34,\n",
       " 40,\n",
       " 18,\n",
       " 25,\n",
       " 28,\n",
       " 33,\n",
       " 89,\n",
       " 35,\n",
       " 29,\n",
       " 23,\n",
       " 42,\n",
       " 55,\n",
       " 28,\n",
       " 35,\n",
       " 15,\n",
       " 43,\n",
       " 19,\n",
       " 30,\n",
       " 30,\n",
       " 21,\n",
       " 28,\n",
       " 37,\n",
       " 28,\n",
       " 24,\n",
       " 30,\n",
       " 385,\n",
       " 34,\n",
       " 29,\n",
       " 382,\n",
       " 34,\n",
       " 48,\n",
       " 26,\n",
       " 25,\n",
       " 27,\n",
       " 48,\n",
       " 233,\n",
       " 21,\n",
       " 27,\n",
       " 30,\n",
       " 22,\n",
       " 22,\n",
       " 38,\n",
       " 44,\n",
       " 27,\n",
       " 30,\n",
       " 31,\n",
       " 43,\n",
       " 40,\n",
       " 20,\n",
       " 51,\n",
       " 31,\n",
       " 36,\n",
       " 31,\n",
       " 41,\n",
       " 28,\n",
       " 212,\n",
       " 31,\n",
       " 21,\n",
       " 39,\n",
       " 24,\n",
       " 29,\n",
       " 29,\n",
       " 31,\n",
       " 29,\n",
       " 33,\n",
       " 36,\n",
       " 30,\n",
       " 27,\n",
       " 36,\n",
       " 36,\n",
       " 44,\n",
       " 24,\n",
       " 31,\n",
       " 34,\n",
       " 36,\n",
       " 57,\n",
       " 23,\n",
       " 33,\n",
       " 23,\n",
       " 39,\n",
       " 37,\n",
       " 30,\n",
       " 39,\n",
       " 28,\n",
       " 32,\n",
       " 23,\n",
       " 33,\n",
       " 43,\n",
       " 25,\n",
       " 25,\n",
       " 29,\n",
       " 23,\n",
       " 31,\n",
       " 467,\n",
       " 31,\n",
       " 26,\n",
       " 177,\n",
       " 29,\n",
       " 62,\n",
       " 32,\n",
       " 30,\n",
       " 39,\n",
       " 25,\n",
       " 25,\n",
       " 28,\n",
       " 33,\n",
       " 49,\n",
       " 43,\n",
       " 34,\n",
       " 24,\n",
       " 33,\n",
       " 33,\n",
       " 33,\n",
       " 24,\n",
       " 28,\n",
       " 40,\n",
       " 23,\n",
       " 24,\n",
       " 24,\n",
       " 32,\n",
       " 46,\n",
       " 35,\n",
       " 30,\n",
       " 29,\n",
       " 25,\n",
       " 30,\n",
       " 30,\n",
       " 29,\n",
       " 40,\n",
       " 40,\n",
       " 33,\n",
       " 386,\n",
       " 36,\n",
       " 24,\n",
       " 36,\n",
       " 22,\n",
       " 36,\n",
       " 31,\n",
       " 31,\n",
       " 52,\n",
       " 45,\n",
       " 38,\n",
       " 38,\n",
       " 30,\n",
       " 28,\n",
       " 481,\n",
       " 838,\n",
       " 38,\n",
       " 24,\n",
       " 30,\n",
       " 27,\n",
       " 41,\n",
       " 26,\n",
       " 30,\n",
       " 49,\n",
       " 20,\n",
       " 39,\n",
       " 27,\n",
       " 35,\n",
       " 32,\n",
       " 31,\n",
       " 32,\n",
       " 31,\n",
       " 45,\n",
       " 37,\n",
       " 23,\n",
       " 37,\n",
       " 27,\n",
       " 27,\n",
       " 30,\n",
       " 39,\n",
       " 31,\n",
       " 38,\n",
       " 34,\n",
       " 37,\n",
       " 26,\n",
       " 24,\n",
       " 22,\n",
       " 25,\n",
       " 36,\n",
       " 29,\n",
       " 25,\n",
       " 33,\n",
       " 31,\n",
       " 41,\n",
       " 30,\n",
       " 10,\n",
       " 20,\n",
       " 26,\n",
       " 24,\n",
       " 41,\n",
       " 40,\n",
       " 35,\n",
       " 31,\n",
       " 25,\n",
       " 29,\n",
       " 31,\n",
       " 854,\n",
       " 30,\n",
       " 27,\n",
       " 35,\n",
       " 81,\n",
       " 34,\n",
       " 22,\n",
       " 22,\n",
       " 25,\n",
       " 26,\n",
       " 25,\n",
       " 29,\n",
       " 56,\n",
       " 41,\n",
       " 24,\n",
       " 16,\n",
       " 28,\n",
       " 31,\n",
       " 41,\n",
       " 41,\n",
       " 13,\n",
       " 37,\n",
       " 45,\n",
       " 28,\n",
       " 35,\n",
       " 25,\n",
       " 24,\n",
       " 27,\n",
       " 25,\n",
       " 38,\n",
       " 24,\n",
       " 25,\n",
       " 28,\n",
       " 19,\n",
       " 35,\n",
       " 21,\n",
       " 22,\n",
       " 61,\n",
       " 35,\n",
       " 210,\n",
       " 27,\n",
       " 30,\n",
       " 60,\n",
       " 22,\n",
       " 33,\n",
       " 24,\n",
       " 25,\n",
       " 27,\n",
       " 26,\n",
       " 26,\n",
       " 30,\n",
       " 29,\n",
       " 25,\n",
       " 30,\n",
       " 34,\n",
       " 52,\n",
       " 24,\n",
       " 34,\n",
       " 21,\n",
       " 31,\n",
       " 26,\n",
       " 33,\n",
       " 328,\n",
       " 26,\n",
       " 31,\n",
       " 27,\n",
       " 27,\n",
       " 24,\n",
       " 55,\n",
       " 27,\n",
       " 29,\n",
       " 33,\n",
       " 34,\n",
       " 687,\n",
       " 34,\n",
       " 27,\n",
       " 29,\n",
       " 928,\n",
       " 47,\n",
       " 21,\n",
       " 37,\n",
       " 23,\n",
       " 28,\n",
       " 39,\n",
       " 32,\n",
       " 26,\n",
       " 24,\n",
       " 42,\n",
       " 36,\n",
       " 21,\n",
       " 50,\n",
       " 18,\n",
       " 49,\n",
       " 20,\n",
       " 64,\n",
       " 36,\n",
       " 31,\n",
       " 19,\n",
       " 64,\n",
       " 63,\n",
       " 33,\n",
       " 32,\n",
       " 34,\n",
       " 32,\n",
       " 35,\n",
       " 27,\n",
       " 36,\n",
       " 26,\n",
       " 52,\n",
       " 9,\n",
       " 36,\n",
       " 19,\n",
       " 24,\n",
       " 62,\n",
       " 38,\n",
       " 29,\n",
       " 39,\n",
       " 30,\n",
       " 29,\n",
       " 25,\n",
       " 22,\n",
       " 24,\n",
       " 23,\n",
       " 35,\n",
       " 24,\n",
       " 21,\n",
       " 59,\n",
       " 36,\n",
       " 28,\n",
       " 25,\n",
       " 39,\n",
       " 29,\n",
       " 27,\n",
       " 28,\n",
       " 43,\n",
       " 24,\n",
       " 36,\n",
       " 28,\n",
       " 50,\n",
       " 29,\n",
       " 26,\n",
       " 33,\n",
       " 32,\n",
       " 26,\n",
       " 32,\n",
       " 32,\n",
       " 32,\n",
       " 34,\n",
       " 32,\n",
       " 37,\n",
       " 32,\n",
       " 437,\n",
       " 59,\n",
       " 26,\n",
       " 34,\n",
       " 35,\n",
       " 32,\n",
       " 17,\n",
       " 22,\n",
       " 44,\n",
       " 37,\n",
       " 33,\n",
       " 22,\n",
       " 27,\n",
       " 34,\n",
       " 44,\n",
       " 35,\n",
       " 44,\n",
       " 18,\n",
       " 26,\n",
       " 27,\n",
       " 42,\n",
       " 48,\n",
       " 29,\n",
       " 41,\n",
       " 43,\n",
       " 41,\n",
       " 39,\n",
       " 62,\n",
       " 36,\n",
       " 35,\n",
       " 39,\n",
       " 44,\n",
       " 28,\n",
       " 28,\n",
       " 25,\n",
       " 42,\n",
       " 51,\n",
       " 37,\n",
       " 36,\n",
       " 40,\n",
       " 25,\n",
       " 22,\n",
       " 49,\n",
       " 33,\n",
       " 33,\n",
       " 28,\n",
       " 28,\n",
       " 41,\n",
       " 22,\n",
       " 20,\n",
       " 26,\n",
       " 21,\n",
       " 51,\n",
       " 34,\n",
       " 23,\n",
       " 26,\n",
       " 26,\n",
       " 18,\n",
       " 29,\n",
       " 24,\n",
       " 469,\n",
       " 27,\n",
       " 47,\n",
       " 40,\n",
       " 14,\n",
       " 50,\n",
       " 40,\n",
       " 39,\n",
       " 21,\n",
       " 32,\n",
       " 166,\n",
       " 27,\n",
       " 22,\n",
       " 22,\n",
       " 31,\n",
       " 19,\n",
       " 22,\n",
       " 26,\n",
       " 25,\n",
       " 19,\n",
       " 18,\n",
       " 18,\n",
       " 33,\n",
       " 18,\n",
       " 13,\n",
       " 20,\n",
       " 20,\n",
       " 30,\n",
       " 34,\n",
       " 49,\n",
       " 42,\n",
       " 27,\n",
       " 19,\n",
       " 25,\n",
       " 27,\n",
       " 35,\n",
       " 28,\n",
       " 35,\n",
       " 33,\n",
       " 37,\n",
       " 28,\n",
       " 57,\n",
       " 47,\n",
       " 50,\n",
       " 28,\n",
       " 31,\n",
       " 13,\n",
       " 27,\n",
       " 17,\n",
       " 23,\n",
       " 50,\n",
       " 31,\n",
       " 24,\n",
       " 567,\n",
       " 27,\n",
       " 44,\n",
       " 26,\n",
       " 21,\n",
       " 31,\n",
       " 20,\n",
       " 28,\n",
       " 30,\n",
       " 31,\n",
       " 38,\n",
       " 70,\n",
       " 340,\n",
       " 17,\n",
       " 42,\n",
       " 30,\n",
       " 45,\n",
       " 35,\n",
       " 31,\n",
       " 29,\n",
       " 32,\n",
       " 29,\n",
       " 36,\n",
       " 28,\n",
       " 23,\n",
       " 24,\n",
       " 43,\n",
       " 18,\n",
       " 21,\n",
       " 20,\n",
       " 33,\n",
       " 31,\n",
       " 30,\n",
       " 524,\n",
       " 34,\n",
       " 25,\n",
       " 28,\n",
       " 32,\n",
       " 25,\n",
       " 30,\n",
       " 22,\n",
       " 30,\n",
       " 20,\n",
       " 33,\n",
       " 22,\n",
       " 21,\n",
       " 65,\n",
       " 24,\n",
       " 34,\n",
       " 30,\n",
       " 25,\n",
       " 35,\n",
       " 20,\n",
       " 22,\n",
       " 40,\n",
       " 62,\n",
       " 34,\n",
       " 28,\n",
       " 51,\n",
       " 29,\n",
       " 37,\n",
       " 50,\n",
       " 35,\n",
       " 27,\n",
       " 82,\n",
       " 20,\n",
       " 37,\n",
       " 32,\n",
       " 29,\n",
       " 44,\n",
       " 538,\n",
       " 30,\n",
       " 26,\n",
       " 21,\n",
       " 26,\n",
       " 26,\n",
       " 31,\n",
       " 22,\n",
       " 28,\n",
       " 33,\n",
       " 43,\n",
       " 38,\n",
       " 50,\n",
       " 25,\n",
       " 23,\n",
       " 41,\n",
       " 28,\n",
       " 28,\n",
       " 30,\n",
       " 21,\n",
       " 738,\n",
       " 40,\n",
       " 37,\n",
       " 30,\n",
       " 29,\n",
       " 27,\n",
       " 24,\n",
       " 31,\n",
       " 24,\n",
       " 40,\n",
       " 36,\n",
       " 63,\n",
       " 27,\n",
       " 28,\n",
       " 35,\n",
       " 39,\n",
       " 23,\n",
       " 40,\n",
       " 31,\n",
       " 22,\n",
       " 41,\n",
       " 21,\n",
       " 37,\n",
       " 23,\n",
       " 40,\n",
       " 17,\n",
       " 45,\n",
       " 35,\n",
       " 33,\n",
       " 14,\n",
       " 35,\n",
       " 43,\n",
       " 30,\n",
       " 37,\n",
       " 27,\n",
       " 24,\n",
       " 23,\n",
       " 37,\n",
       " 48,\n",
       " 23,\n",
       " 29,\n",
       " 28,\n",
       " 30,\n",
       " 36,\n",
       " 24,\n",
       " 36,\n",
       " 25,\n",
       " 34,\n",
       " 15,\n",
       " 29,\n",
       " 59,\n",
       " 38,\n",
       " 454,\n",
       " 36,\n",
       " 39,\n",
       " 42,\n",
       " 30,\n",
       " 737,\n",
       " 29,\n",
       " 32,\n",
       " 23,\n",
       " 30,\n",
       " 35,\n",
       " 543,\n",
       " 53,\n",
       " 19,\n",
       " 31,\n",
       " 36,\n",
       " 32,\n",
       " 24,\n",
       " 19,\n",
       " 689,\n",
       " 33,\n",
       " 49,\n",
       " 30,\n",
       " 28,\n",
       " 18,\n",
       " 22,\n",
       " 35,\n",
       " 52,\n",
       " 30,\n",
       " 37,\n",
       " 26,\n",
       " 27,\n",
       " 32,\n",
       " 50,\n",
       " 28,\n",
       " 34,\n",
       " 26,\n",
       " 27,\n",
       " 411,\n",
       " 753,\n",
       " 981,\n",
       " 1113,\n",
       " 517,\n",
       " 137,\n",
       " 95,\n",
       " 622,\n",
       " 828,\n",
       " 149,\n",
       " 1375,\n",
       " 573,\n",
       " 544,\n",
       " 226,\n",
       " 144,\n",
       " 150,\n",
       " 80,\n",
       " 671,\n",
       " 134,\n",
       " 643,\n",
       " 554,\n",
       " 18,\n",
       " 678,\n",
       " 298,\n",
       " 97,\n",
       " 197,\n",
       " 853,\n",
       " 493,\n",
       " 162,\n",
       " 420,\n",
       " 448,\n",
       " 147,\n",
       " 13,\n",
       " 124,\n",
       " 719,\n",
       " 357,\n",
       " 13,\n",
       " 388,\n",
       " 24,\n",
       " 836,\n",
       " 825,\n",
       " 392,\n",
       " 433,\n",
       " 158,\n",
       " 656,\n",
       " 135,\n",
       " 100,\n",
       " 110,\n",
       " 78,\n",
       " 147,\n",
       " 127,\n",
       " 97,\n",
       " 718,\n",
       " 816,\n",
       " 138,\n",
       " 116,\n",
       " 91,\n",
       " 571,\n",
       " 300,\n",
       " 496,\n",
       " 674,\n",
       " 340,\n",
       " 104,\n",
       " 72,\n",
       " 140,\n",
       " 110,\n",
       " 101,\n",
       " 210,\n",
       " 499,\n",
       " 114,\n",
       " 471,\n",
       " 107,\n",
       " 434,\n",
       " 808,\n",
       " 726,\n",
       " 763,\n",
       " 217,\n",
       " 568,\n",
       " 251,\n",
       " 272,\n",
       " 129,\n",
       " 654,\n",
       " 867,\n",
       " 183,\n",
       " 90,\n",
       " 756,\n",
       " 326,\n",
       " 126,\n",
       " 78,\n",
       " 320,\n",
       " 120,\n",
       " 118,\n",
       " 697,\n",
       " 531,\n",
       " 91,\n",
       " 139,\n",
       " 95,\n",
       " 186,\n",
       " 123,\n",
       " 133,\n",
       " 637,\n",
       " 864,\n",
       " 122,\n",
       " 148,\n",
       " 231,\n",
       " 89,\n",
       " 109,\n",
       " 337,\n",
       " 125,\n",
       " 140,\n",
       " 101,\n",
       " 763,\n",
       " 581,\n",
       " 108,\n",
       " 920,\n",
       " 410,\n",
       " 2581,\n",
       " 169,\n",
       " 132,\n",
       " 95,\n",
       " 171,\n",
       " 238,\n",
       " 786,\n",
       " 625,\n",
       " 119,\n",
       " 1207,\n",
       " 145,\n",
       " 167,\n",
       " 1149,\n",
       " 153,\n",
       " 149,\n",
       " 117,\n",
       " 550,\n",
       " 1041,\n",
       " 542,\n",
       " 119,\n",
       " 146,\n",
       " 82,\n",
       " 86,\n",
       " 242,\n",
       " 122,\n",
       " 119,\n",
       " 254,\n",
       " 369,\n",
       " 114,\n",
       " 173,\n",
       " 379,\n",
       " 153,\n",
       " 153,\n",
       " 141,\n",
       " 101,\n",
       " 415,\n",
       " 99,\n",
       " 102,\n",
       " 97,\n",
       " 143,\n",
       " 312,\n",
       " 70,\n",
       " 560,\n",
       " 1253,\n",
       " 566,\n",
       " 736,\n",
       " 28,\n",
       " 352,\n",
       " 753,\n",
       " 125,\n",
       " 193,\n",
       " 520,\n",
       " 459,\n",
       " 540,\n",
       " 103,\n",
       " 801,\n",
       " 533,\n",
       " 108,\n",
       " 806,\n",
       " 992,\n",
       " 99,\n",
       " 166,\n",
       " 122,\n",
       " 818,\n",
       " 10,\n",
       " 1093,\n",
       " 169,\n",
       " 184,\n",
       " 473,\n",
       " 106,\n",
       " 110,\n",
       " 42,\n",
       " 466,\n",
       " 132,\n",
       " 115,\n",
       " 1068,\n",
       " 521,\n",
       " 83,\n",
       " 413,\n",
       " 79,\n",
       " 82,\n",
       " 719,\n",
       " 199,\n",
       " 478,\n",
       " 170,\n",
       " 117,\n",
       " 157,\n",
       " 474,\n",
       " 126,\n",
       " 453,\n",
       " 87,\n",
       " 108,\n",
       " 179,\n",
       " 315,\n",
       " 385,\n",
       " 526,\n",
       " 405,\n",
       " 58,\n",
       " 101,\n",
       " 503,\n",
       " 45,\n",
       " 980,\n",
       " 122,\n",
       " 932,\n",
       " 81,\n",
       " 155,\n",
       " 220,\n",
       " 146,\n",
       " ...]"
      ]
     },
     "execution_count": 96,
     "metadata": {},
     "output_type": "execute_result"
    }
   ],
   "source": [
    "sent_lengths = []\n",
    "\n",
    "for a in range(0,len(articles_data)):\n",
    "    article_length = (len(articles_data.iloc[a].Title) + len(articles_data.iloc[a].text))\n",
    "    sent_lengths.append(article_length)\n",
    "    \n",
    "sent_lengths"
   ]
  },
  {
   "cell_type": "markdown",
   "metadata": {},
   "source": [
    "Given in the output above are the list of lengths"
   ]
  },
  {
   "cell_type": "markdown",
   "metadata": {},
   "source": [
    "The code given below plots a graph showing the number of occuruences vs the length of the article"
   ]
  },
  {
   "cell_type": "code",
   "execution_count": 101,
   "metadata": {},
   "outputs": [
    {
     "data": {
      "image/png": "[encoded data removed]",
      "text/plain": [
       "<Figure size 432x288 with 1 Axes>"
      ]
     },
     "metadata": {},
     "output_type": "display_data"
    }
   ],
   "source": [
    "import matplotlib.mlab as mlab\n",
    "import matplotlib.pyplot as plt\n",
    "\n",
    "num_bins = 50\n",
    "n, bins, patches = plt.hist(sent_lengths, num_bins, facecolor='green', alpha=0.5)\n",
    "plt.xlabel('Length of the Article')\n",
    "plt.ylabel('Number of Occurences')\n",
    "plt.show()\n"
   ]
  },
  {
   "cell_type": "markdown",
   "metadata": {},
   "source": [
    "Given above is the graph plotting the number of occurences to the length of each article. As seen in the graph the a majority of articles lies in the range of length 0 to around 250. "
   ]
  },
  {
   "cell_type": "markdown",
   "metadata": {},
   "source": [
    "### Answer (d)"
   ]
  },
  {
   "cell_type": "markdown",
   "metadata": {},
   "source": [
    "In the following code, first a bag-of-words representation was obtained for the article dataset."
   ]
  },
  {
   "cell_type": "code",
   "execution_count": 9,
   "metadata": {},
   "outputs": [
    {
     "data": {
      "text/plain": [
       "array([[0, 0, 0, ..., 0, 0, 0],\n",
       "       [0, 0, 0, ..., 0, 0, 0],\n",
       "       [0, 0, 0, ..., 0, 0, 0],\n",
       "       ...,\n",
       "       [0, 0, 0, ..., 0, 0, 0],\n",
       "       [0, 0, 0, ..., 0, 0, 0],\n",
       "       [0, 0, 0, ..., 0, 0, 0]])"
      ]
     },
     "execution_count": 9,
     "metadata": {},
     "output_type": "execute_result"
    }
   ],
   "source": [
    "from sklearn.feature_extraction.text import CountVectorizer\n",
    "vectorizer = CountVectorizer()\n",
    "\n",
    "corpus = []\n",
    "for a in range(0,len(cleaned_articles)):\n",
    "    article = ((cleaned_articles.iloc[a].Title) + (cleaned_articles.iloc[a].text))\n",
    "    corpus.append(article)\n",
    "\n",
    "X = (vectorizer.fit_transform(corpus)).toarray()\n",
    "X"
   ]
  },
  {
   "cell_type": "markdown",
   "metadata": {},
   "source": [
    "The output shows a condensed form of the bag-of-words representation"
   ]
  },
  {
   "cell_type": "code",
   "execution_count": 164,
   "metadata": {},
   "outputs": [
    {
     "name": "stdout",
     "output_type": "stream",
     "text": [
      "Collecting kneed\n",
      "  Downloading https://files.pythonhosted.org/packages/c3/6b/e130913aaaad1373060e259ab222ca2330672db696b297b082c3f3089fcc/kneed-0.7.0-py2.py3-none-any.whl\n",
      "Requirement already satisfied: matplotlib in /home/dinithiw/anaconda3/lib/python3.7/site-packages (from kneed) (3.1.0)\n",
      "Requirement already satisfied: scipy in /home/dinithiw/anaconda3/lib/python3.7/site-packages (from kneed) (1.3.0)\n",
      "Requirement already satisfied: numpy>=1.14.2 in /home/dinithiw/anaconda3/lib/python3.7/site-packages (from kneed) (1.16.4)\n",
      "Requirement already satisfied: cycler>=0.10 in /home/dinithiw/anaconda3/lib/python3.7/site-packages (from matplotlib->kneed) (0.10.0)\n",
      "Requirement already satisfied: kiwisolver>=1.0.1 in /home/dinithiw/anaconda3/lib/python3.7/site-packages (from matplotlib->kneed) (1.1.0)\n",
      "Requirement already satisfied: pyparsing!=2.0.4,!=2.1.2,!=2.1.6,>=2.0.1 in /home/dinithiw/anaconda3/lib/python3.7/site-packages (from matplotlib->kneed) (2.4.0)\n",
      "Requirement already satisfied: python-dateutil>=2.1 in /home/dinithiw/anaconda3/lib/python3.7/site-packages (from matplotlib->kneed) (2.8.0)\n",
      "Requirement already satisfied: six in /home/dinithiw/anaconda3/lib/python3.7/site-packages (from cycler>=0.10->matplotlib->kneed) (1.12.0)\n",
      "Requirement already satisfied: setuptools in /home/dinithiw/anaconda3/lib/python3.7/site-packages (from kiwisolver>=1.0.1->matplotlib->kneed) (41.0.1)\n",
      "Installing collected packages: kneed\n",
      "Successfully installed kneed-0.7.0\n",
      "\u001b[33mWARNING: You are using pip version 19.2.3, however version 21.0.1 is available.\n",
      "You should consider upgrading via the 'pip install --upgrade pip' command.\u001b[0m\n",
      "Note: you may need to restart the kernel to use updated packages.\n"
     ]
    }
   ],
   "source": [
    "#this is needed to locate the elbow point\n",
    "pip install kneed"
   ]
  },
  {
   "cell_type": "code",
   "execution_count": 10,
   "metadata": {},
   "outputs": [],
   "source": [
    "import matplotlib.pyplot as plt\n",
    "from kneed import KneeLocator\n",
    "from sklearn.datasets import make_blobs\n",
    "from sklearn.cluster import KMeans\n",
    "from sklearn.metrics import silhouette_score\n",
    "from sklearn.preprocessing import StandardScaler"
   ]
  },
  {
   "cell_type": "markdown",
   "metadata": {},
   "source": [
    "The function given below will perform k-means clustering on the dataset. The range of clusters considered is between 2 and 10. \n",
    "\n",
    "The sum of squared error is calculated for all the clusters considered. The values will be appended to the list sse[]. Then the silhouette scores will be claulated to all the clusters considered. The values will be appended to silhouette_coefficients[]. \n",
    "\n",
    "Then two plots will be drawn showing the Sum of squared error and Silhouette score to the repective number of clusters being considered. Also, the elbow point will be printed after the sse plot. "
   ]
  },
  {
   "cell_type": "code",
   "execution_count": 47,
   "metadata": {},
   "outputs": [],
   "source": [
    "def get_sse_silhoutte(X,n_iterations):\n",
    "    \n",
    "    kmeans_kwargs = {\n",
    "    \"init\": \"random\",\n",
    "    \"n_init\": 10,\n",
    "    \"max_iter\": n_iterations,\n",
    "    \"random_state\": 0,\n",
    "    }\n",
    "    \n",
    "    sse = []\n",
    "    silhouette_coefficients = []\n",
    "    \n",
    "    for k in range(2, 10):\n",
    "        kmeans = KMeans(n_clusters=k, **kmeans_kwargs)\n",
    "        kmeans.fit(X)\n",
    "        sse.append(kmeans.inertia_)\n",
    "        \n",
    "        score = silhouette_score(X, kmeans.labels_)\n",
    "        silhouette_coefficients.append(score)\n",
    "\n",
    "    plt.style.use(\"fivethirtyeight\")\n",
    "    plt.plot(range(2, 10), sse)\n",
    "    plt.xticks(range(2, 10))\n",
    "    plt.xlabel(\"Number of Clusters\")\n",
    "    plt.ylabel(\"SSE\")\n",
    "    plt.show()\n",
    "    \n",
    "    kl = KneeLocator(\n",
    "    range(2, 10), sse, curve=\"convex\", direction=\"decreasing\"\n",
    "    )\n",
    "\n",
    "    print('elbow point: ', kl.elbow)\n",
    "    \n",
    "    plt.style.use(\"fivethirtyeight\")\n",
    "    plt.plot(range(2, 10), silhouette_coefficients)\n",
    "    plt.xticks(range(2, 10))\n",
    "    plt.xlabel(\"Number of Clusters\")\n",
    "    plt.ylabel(\"Silhouette Coefficient\")\n",
    "    plt.show()"
   ]
  },
  {
   "cell_type": "markdown",
   "metadata": {},
   "source": [
    "Perform k-means clustering and obtain the SSE and Silhouette score plots for the bag-of-words representation. "
   ]
  },
  {
   "cell_type": "code",
   "execution_count": 178,
   "metadata": {},
   "outputs": [
    {
     "data": {
      "image/png": "[encoded data removed]",
      "text/plain": [
       "<Figure size 432x288 with 1 Axes>"
      ]
     },
     "metadata": {},
     "output_type": "display_data"
    },
    {
     "name": "stdout",
     "output_type": "stream",
     "text": [
      "elbow point:  4\n"
     ]
    },
    {
     "data": {
      "image/png": "[encoded data removed]",
      "text/plain": [
       "<Figure size 432x288 with 1 Axes>"
      ]
     },
     "metadata": {},
     "output_type": "display_data"
    }
   ],
   "source": [
    "get_sse_silhoutte(X,100)"
   ]
  },
  {
   "cell_type": "markdown",
   "metadata": {},
   "source": [
    "According to the SSE plot, the elbow point appears to be at 4. Therefore, the best number of clusters to which the articles can be categorized is 4. However, according to the Sillhouette plot, the best number of clusters is 2. The silhouette score for 4 clusters has a lower score than that for 2 clusters. "
   ]
  },
  {
   "cell_type": "markdown",
   "metadata": {},
   "source": [
    "### Answer (e)"
   ]
  },
  {
   "cell_type": "markdown",
   "metadata": {},
   "source": [
    "Following code gives a tf-idf vector representation of the articles data. "
   ]
  },
  {
   "cell_type": "code",
   "execution_count": 16,
   "metadata": {},
   "outputs": [],
   "source": [
    "from sklearn.feature_extraction.text import TfidfVectorizer\n",
    "v = TfidfVectorizer()\n",
    "\n",
    "#creating the corpus to be used for the representation\n",
    "#cleaned_articles contain the dataframe before the tokenizing\n",
    "corpus = []\n",
    "for a in range(0,len(cleaned_articles)):\n",
    "    article = ((cleaned_articles.iloc[a].Title) + (cleaned_articles.iloc[a].text))\n",
    "    corpus.append(article)\n",
    "    \n",
    "tfidf = v.fit_transform(corpus).toarray()"
   ]
  },
  {
   "cell_type": "markdown",
   "metadata": {},
   "source": [
    "Obtain the SSE and Silhouette score plots for the tf-idf vector representation. "
   ]
  },
  {
   "cell_type": "code",
   "execution_count": 183,
   "metadata": {},
   "outputs": [
    {
     "data": {
      "image/png": "[encoded data removed]",
      "text/plain": [
       "<Figure size 432x288 with 1 Axes>"
      ]
     },
     "metadata": {},
     "output_type": "display_data"
    },
    {
     "name": "stderr",
     "output_type": "stream",
     "text": [
      "/home/dinithiw/anaconda3/lib/python3.7/site-packages/kneed/knee_locator.py:304: UserWarning: No knee/elbow found\n",
      "  warnings.warn(\"No knee/elbow found\")\n"
     ]
    },
    {
     "name": "stdout",
     "output_type": "stream",
     "text": [
      "elbow point:  None\n"
     ]
    },
    {
     "data": {
      "image/png": "[encoded data removed]",
      "text/plain": [
       "<Figure size 432x288 with 1 Axes>"
      ]
     },
     "metadata": {},
     "output_type": "display_data"
    }
   ],
   "source": [
    "get_sse_silhoutte(tfidf,100)"
   ]
  },
  {
   "cell_type": "markdown",
   "metadata": {},
   "source": [
    "Here a clear elbow point cannot be obtained. In the silhouette score, the best number of clusters is shown as 2. The silhouette score ranges from values -1 to 1. In the plot obtained above, none of the scores are close to zero. Therefore, in my opinion none of the clusters can be decided as a good number just by observing the silhouette plot. "
   ]
  },
  {
   "cell_type": "markdown",
   "metadata": {},
   "source": [
    "The following code is used to obtain a bigram representation of the data of the articles. Here, when the entire dataset was used the system ends up crashing. Therefore, only 1000 articles were considered"
   ]
  },
  {
   "cell_type": "code",
   "execution_count": 50,
   "metadata": {},
   "outputs": [],
   "source": [
    "import sklearn.feature_extraction.text\n",
    "corpus_sub = []\n",
    "\n",
    "for a in range(0,1000):\n",
    "    article = ((cleaned_articles.iloc[a].Title) + (cleaned_articles.iloc[a].text))\n",
    "    corpus_sub.append(article)\n",
    "\n",
    "vectorizer = sklearn.feature_extraction.text.CountVectorizer(ngram_range=(2,2))\n",
    "vectorizer.fit(corpus_sub)\n",
    "bigram = vectorizer.transform(corpus_sub).toarray()"
   ]
  },
  {
   "cell_type": "markdown",
   "metadata": {},
   "source": [
    "Obtain the sse and silhouette plots"
   ]
  },
  {
   "cell_type": "code",
   "execution_count": 51,
   "metadata": {},
   "outputs": [
    {
     "data": {
      "image/png": "[encoded data removed]",
      "text/plain": [
       "<Figure size 432x288 with 1 Axes>"
      ]
     },
     "metadata": {},
     "output_type": "display_data"
    },
    {
     "name": "stdout",
     "output_type": "stream",
     "text": [
      "elbow point:  3\n"
     ]
    },
    {
     "data": {
      "image/png": "[encoded data removed]",
      "text/plain": [
       "<Figure size 432x288 with 1 Axes>"
      ]
     },
     "metadata": {},
     "output_type": "display_data"
    }
   ],
   "source": [
    "get_sse_silhoutte(bigram, 5)"
   ]
  },
  {
   "cell_type": "markdown",
   "metadata": {},
   "source": [
    "According to the sse plot, three clusters appear to be the best number of clusters. Looking at the silhouette score plot, three or two clusters seems to be the better choice. Therefore, in the bigram representation, three clusters appear to be the best choice."
   ]
  },
  {
   "cell_type": "markdown",
   "metadata": {},
   "source": [
    "Dimensionlaity reduction on the dataset was performed using principal component analysis. The bag-of-words representation was used to perform the dimensionality reduction. A scree plot was drawn to see how the components explains the data"
   ]
  },
  {
   "cell_type": "code",
   "execution_count": 12,
   "metadata": {},
   "outputs": [
    {
     "data": {
      "image/png": "[encoded data removed]",
      "text/plain": [
       "<Figure size 432x288 with 1 Axes>"
      ]
     },
     "metadata": {
      "needs_background": "light"
     },
     "output_type": "display_data"
    }
   ],
   "source": [
    "import matplotlib.pyplot as plt\n",
    "from sklearn.cluster import KMeans\n",
    "from sklearn.decomposition import PCA\n",
    "from sklearn.preprocessing import StandardScaler\n",
    "\n",
    "pca = PCA(n_components=20)\n",
    "principalComponents = pca.fit_transform(X)# Plot the explained variances\n",
    "features = range(pca.n_components_)\n",
    "\n",
    "plt.bar(features, pca.explained_variance_ratio_, color='black')\n",
    "plt.xlabel('PCA features')\n",
    "plt.ylabel('variance %')\n",
    "plt.xticks(features)\n",
    "# Save components to a DataFrame\n",
    "PCA_components = pd.DataFrame(principalComponents)"
   ]
  },
  {
   "cell_type": "markdown",
   "metadata": {},
   "source": [
    "According to the scree plot obtained, a majority of the data can be represented using three components. Approximately about 80% of the data can be represented using three components. Therefore the three components were used to perform k-means clustering"
   ]
  },
  {
   "cell_type": "markdown",
   "metadata": {},
   "source": [
    "Obtain the sse and silhouette score plot for the dimensionally reduced representation"
   ]
  },
  {
   "cell_type": "code",
   "execution_count": 13,
   "metadata": {},
   "outputs": [
    {
     "data": {
      "image/png": "[encoded data removed]",
      "text/plain": [
       "<Figure size 432x288 with 1 Axes>"
      ]
     },
     "metadata": {},
     "output_type": "display_data"
    },
    {
     "name": "stdout",
     "output_type": "stream",
     "text": [
      "elbow point:  4\n"
     ]
    },
    {
     "data": {
      "image/png": "[encoded data removed]",
      "text/plain": [
       "<Figure size 432x288 with 1 Axes>"
      ]
     },
     "metadata": {},
     "output_type": "display_data"
    }
   ],
   "source": [
    "get_sse_silhoutte(PCA_components.iloc[:,:3],100)"
   ]
  },
  {
   "cell_type": "markdown",
   "metadata": {},
   "source": [
    "According to the sse plot, the elbow point appears at the four clusters. The best number of clusters appear to be two according to the silhouette plot. Silhouette score for two clusters have a lower value than that of two."
   ]
  },
  {
   "cell_type": "markdown",
   "metadata": {},
   "source": [
    "Conlcusion on the optimum number of clusters: \n",
    "\n",
    "Upon considering the sse plots, the best number of clusters appear to be 3 or four. When the silhouette score plots are considered, the best number of clusters was always 2. Therefore, the optimal number of clusters could lie in a range between 2 and 4. However, since the data considered are news articles and there are more than two categories in news articles, the optimum number of clusters was chosen as 4. "
   ]
  },
  {
   "cell_type": "markdown",
   "metadata": {},
   "source": [
    "### Answer (f)\n",
    "\n",
    "#### How would you try to improve the categorization of news articles in order to create a predictive model which is able to automatically categorize new articles?\n",
    "\n",
    "First train a deep learning model using articles with known category, then use the model to categorize the unlabelled data \n",
    "\n",
    "Perform feature scaling\n",
    "\n",
    "Introduce more features into the dataset\n",
    "\n",
    "If the model appears to overfit, regularization parameters can be introduced to the training set"
   ]
  },
  {
   "cell_type": "markdown",
   "metadata": {},
   "source": [
    "### Answer (g)"
   ]
  },
  {
   "cell_type": "markdown",
   "metadata": {},
   "source": [
    "The representation obtained from dimensionality reduction was used to fit the deep learning model. As mentioned in question (e), the optimal number of clusters was chosen as 4. K-means clustering was performed considering the number of clusters to be 4. Then the labels produced by k-means clustering was taken as the ground truth."
   ]
  },
  {
   "cell_type": "code",
   "execution_count": 15,
   "metadata": {},
   "outputs": [],
   "source": [
    "kmeans_kwargs = {\n",
    "    \"init\": \"random\",\n",
    "    \"n_init\": 10,\n",
    "    \"max_iter\": 100,\n",
    "    \"random_state\": 0,\n",
    "    }\n",
    "\n",
    "kmeans = KMeans(n_clusters=4, **kmeans_kwargs).fit(PCA_components)"
   ]
  },
  {
   "cell_type": "markdown",
   "metadata": {},
   "source": [
    "Given below are the labels assigned by the kmeans algorithm after the clustering"
   ]
  },
  {
   "cell_type": "code",
   "execution_count": 28,
   "metadata": {},
   "outputs": [
    {
     "data": {
      "text/plain": [
       "array([3, 3, 3, ..., 3, 0, 3], dtype=int32)"
      ]
     },
     "execution_count": 28,
     "metadata": {},
     "output_type": "execute_result"
    }
   ],
   "source": [
    "(kmeans.labels_)"
   ]
  },
  {
   "cell_type": "markdown",
   "metadata": {},
   "source": [
    "Split the dataset into the testing and training sets. 25% of the entire dataset will be used for the testing dataset"
   ]
  },
  {
   "cell_type": "code",
   "execution_count": 31,
   "metadata": {},
   "outputs": [
    {
     "data": {
      "text/plain": [
       "array([3, 2, 3, ..., 3, 3, 0], dtype=int32)"
      ]
     },
     "execution_count": 31,
     "metadata": {},
     "output_type": "execute_result"
    }
   ],
   "source": [
    "from sklearn.model_selection import train_test_split\n",
    "y = (kmeans.labels_)\n",
    "X_train, X_test, y_train, y_test = train_test_split(PCA_components, y, test_size=0.25, random_state=1000)\n",
    "y_train"
   ]
  },
  {
   "cell_type": "markdown",
   "metadata": {},
   "source": [
    "Shown in the output above is the values of the labels of the training set"
   ]
  },
  {
   "cell_type": "markdown",
   "metadata": {},
   "source": [
    "The first layer of the deep learning model created has 64 nodes using relu activation function. The next layer has 32 nodes. The activation functions used in this layer is also relu. The final layer has 4 nodes corresponding to the 4 categories. Since there are more than 2 categories, softmax activation function was used for the output layer. "
   ]
  },
  {
   "cell_type": "code",
   "execution_count": 60,
   "metadata": {},
   "outputs": [
    {
     "name": "stdout",
     "output_type": "stream",
     "text": [
      "Model: \"sequential_6\"\n",
      "_________________________________________________________________\n",
      "Layer (type)                 Output Shape              Param #   \n",
      "=================================================================\n",
      "dense_18 (Dense)             (None, 64)                1344      \n",
      "_________________________________________________________________\n",
      "dense_19 (Dense)             (None, 32)                2080      \n",
      "_________________________________________________________________\n",
      "dense_20 (Dense)             (None, 4)                 132       \n",
      "=================================================================\n",
      "Total params: 3,556\n",
      "Trainable params: 3,556\n",
      "Non-trainable params: 0\n",
      "_________________________________________________________________\n"
     ]
    }
   ],
   "source": [
    "import tensorflow as tf\n",
    "from tensorflow.keras.preprocessing.sequence import pad_sequences\n",
    "\n",
    "input_dim = X_train.shape[1]\n",
    "\n",
    "model = tf.keras.Sequential()\n",
    "model.add(tf.keras.layers.Dense(64, input_dim=input_dim, activation='relu'))\n",
    "model.add(tf.keras.layers.Dense(32, activation='relu'))\n",
    "model.add(tf.keras.layers.Dense(4, activation='softmax'))\n",
    "\n",
    "model.compile(loss=tf.keras.losses.SparseCategoricalCrossentropy(from_logits=True), optimizer='adam', metrics=['accuracy'])\n",
    "\n",
    "model.summary()"
   ]
  },
  {
   "cell_type": "markdown",
   "metadata": {},
   "source": [
    "Given in the output is an overview of the model and the number of parameters available for training"
   ]
  },
  {
   "cell_type": "markdown",
   "metadata": {},
   "source": [
    "Train the deep learning model using the training datasets and validate it using the test sets. The number of iterations and batch sizer were set to 100. "
   ]
  },
  {
   "cell_type": "code",
   "execution_count": 61,
   "metadata": {},
   "outputs": [],
   "source": [
    "history = model.fit(X_train, y_train,\n",
    "epochs=100,\n",
    "verbose=False,\n",
    "validation_data=(X_test, y_test),\n",
    "batch_size=100)"
   ]
  },
  {
   "cell_type": "markdown",
   "metadata": {},
   "source": [
    "Given below is the code to print the training and testing accuracies of the model"
   ]
  },
  {
   "cell_type": "code",
   "execution_count": 62,
   "metadata": {},
   "outputs": [
    {
     "name": "stdout",
     "output_type": "stream",
     "text": [
      "Training Accuracy: 0.9198\n",
      "Testing Accuracy:  0.8947\n"
     ]
    }
   ],
   "source": [
    "loss, accuracy = model.evaluate(X_train, y_train, verbose=False)\n",
    "print(\"Training Accuracy: {:.4f}\".format(accuracy))\n",
    "loss, accuracy = model.evaluate(X_test, y_test, verbose=False)\n",
    "print(\"Testing Accuracy:  {:.4f}\".format(accuracy))"
   ]
  },
  {
   "cell_type": "markdown",
   "metadata": {},
   "source": [
    "Accordingly, the model has a training accuracy of 0.9198 and a testing accuracy of 0.8947"
   ]
  }
 ],
 "metadata": {
  "kernelspec": {
   "display_name": "Python 3",
   "language": "python",
   "name": "python3"
  },
  "language_info": {
   "codemirror_mode": {
    "name": "ipython",
    "version": 3
   },
   "file_extension": ".py",
   "mimetype": "text/x-python",
   "name": "python",
   "nbconvert_exporter": "python",
   "pygments_lexer": "ipython3",
   "version": "3.7.3"
  }
 },
 "nbformat": 4,
 "nbformat_minor": 2
}
