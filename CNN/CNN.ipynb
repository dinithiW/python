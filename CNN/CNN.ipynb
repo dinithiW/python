{
  "nbformat": 4,
  "nbformat_minor": 0,
  "metadata": {
    "colab": {
      "name": "Assignment_anthima_final.ipynb",
      "provenance": []
    },
    "kernelspec": {
      "name": "python3",
      "display_name": "Python 3"
    }
  },
  "cells": [
    {
      "cell_type": "code",
      "metadata": {
        "id": "Yt7HjK0bL542"
      },
      "source": [
        "import numpy as np\n",
        "import pandas as pd\n",
        "\n",
        "import tensorflow as tf\n",
        "from tensorflow import feature_column\n",
        "\n",
        "from IPython.display import clear_output\n"
      ],
      "execution_count": null,
      "outputs": []
    },
    {
      "cell_type": "code",
      "metadata": {
        "id": "gxaYXh-4MGeL",
        "colab": {
          "base_uri": "https://localhost:8080/",
          "height": 206
        },
        "outputId": "63c96bf6-1fe7-4dfe-f139-7886d6aa6884"
      },
      "source": [
        "#names of the columns\n",
        "col_names = ['ID', 'Age', 'Gender', 'TB', 'DB', 'ALK', 'SGPT', 'SGOT', 'TP', 'ALB', 'AG_Ratio', 'Class']\n",
        "\n",
        "#uploading the files\n",
        "training_set = pd.read_csv(\"training.csv\", header=None, names = col_names)\n",
        "testing_set = pd.read_csv(\"testing.csv\", header=None, names = col_names)\n",
        "\n",
        "#removing the ID column\n",
        "training_set.pop('ID')\n",
        "testing_set.pop('ID')\n",
        "\n",
        "training_set.head()"
      ],
      "execution_count": null,
      "outputs": [
        {
          "output_type": "execute_result",
          "data": {
            "text/html": [
              "<div>\n",
              "<style scoped>\n",
              "    .dataframe tbody tr th:only-of-type {\n",
              "        vertical-align: middle;\n",
              "    }\n",
              "\n",
              "    .dataframe tbody tr th {\n",
              "        vertical-align: top;\n",
              "    }\n",
              "\n",
              "    .dataframe thead th {\n",
              "        text-align: right;\n",
              "    }\n",
              "</style>\n",
              "<table border=\"1\" class=\"dataframe\">\n",
              "  <thead>\n",
              "    <tr style=\"text-align: right;\">\n",
              "      <th></th>\n",
              "      <th>Age</th>\n",
              "      <th>Gender</th>\n",
              "      <th>TB</th>\n",
              "      <th>DB</th>\n",
              "      <th>ALK</th>\n",
              "      <th>SGPT</th>\n",
              "      <th>SGOT</th>\n",
              "      <th>TP</th>\n",
              "      <th>ALB</th>\n",
              "      <th>AG_Ratio</th>\n",
              "      <th>Class</th>\n",
              "    </tr>\n",
              "  </thead>\n",
              "  <tbody>\n",
              "    <tr>\n",
              "      <th>0</th>\n",
              "      <td>65</td>\n",
              "      <td>Female</td>\n",
              "      <td>0.7</td>\n",
              "      <td>0.1</td>\n",
              "      <td>187</td>\n",
              "      <td>16</td>\n",
              "      <td>18</td>\n",
              "      <td>6.8</td>\n",
              "      <td>3.3</td>\n",
              "      <td>0.9</td>\n",
              "      <td>Yes</td>\n",
              "    </tr>\n",
              "    <tr>\n",
              "      <th>1</th>\n",
              "      <td>62</td>\n",
              "      <td>Male</td>\n",
              "      <td>10.9</td>\n",
              "      <td>5.5</td>\n",
              "      <td>699</td>\n",
              "      <td>64</td>\n",
              "      <td>100</td>\n",
              "      <td>7.5</td>\n",
              "      <td>3.2</td>\n",
              "      <td>0.74</td>\n",
              "      <td>Yes</td>\n",
              "    </tr>\n",
              "    <tr>\n",
              "      <th>2</th>\n",
              "      <td>62</td>\n",
              "      <td>Male</td>\n",
              "      <td>7.3</td>\n",
              "      <td>4.1</td>\n",
              "      <td>490</td>\n",
              "      <td>60</td>\n",
              "      <td>68</td>\n",
              "      <td>7</td>\n",
              "      <td>3.3</td>\n",
              "      <td>0.89</td>\n",
              "      <td>Yes</td>\n",
              "    </tr>\n",
              "    <tr>\n",
              "      <th>3</th>\n",
              "      <td>58</td>\n",
              "      <td>Male</td>\n",
              "      <td>1</td>\n",
              "      <td>0.4</td>\n",
              "      <td>182</td>\n",
              "      <td>14</td>\n",
              "      <td>20</td>\n",
              "      <td>6.8</td>\n",
              "      <td>3.4</td>\n",
              "      <td>1</td>\n",
              "      <td>Yes</td>\n",
              "    </tr>\n",
              "    <tr>\n",
              "      <th>4</th>\n",
              "      <td>72</td>\n",
              "      <td>Male</td>\n",
              "      <td>3.9</td>\n",
              "      <td>2</td>\n",
              "      <td>195</td>\n",
              "      <td>27</td>\n",
              "      <td>59</td>\n",
              "      <td>7.3</td>\n",
              "      <td>2.4</td>\n",
              "      <td>0.4</td>\n",
              "      <td>Yes</td>\n",
              "    </tr>\n",
              "  </tbody>\n",
              "</table>\n",
              "</div>"
            ],
            "text/plain": [
              "   Age  Gender    TB   DB  ALK SGPT SGOT   TP  ALB AG_Ratio Class\n",
              "0   65  Female   0.7  0.1  187   16   18  6.8  3.3      0.9   Yes\n",
              "1   62    Male  10.9  5.5  699   64  100  7.5  3.2     0.74   Yes\n",
              "2   62    Male   7.3  4.1  490   60   68    7  3.3     0.89   Yes\n",
              "3   58    Male     1  0.4  182   14   20  6.8  3.4        1   Yes\n",
              "4   72    Male   3.9    2  195   27   59  7.3  2.4      0.4   Yes"
            ]
          },
          "metadata": {
            "tags": []
          },
          "execution_count": 2
        }
      ]
    },
    {
      "cell_type": "code",
      "metadata": {
        "id": "JigjHTnTMJce",
        "colab": {
          "base_uri": "https://localhost:8080/",
          "height": 242
        },
        "outputId": "c6ee9fcb-72d3-4b0d-ed37-93e4c0e887e2"
      },
      "source": [
        "training_set.dtypes"
      ],
      "execution_count": null,
      "outputs": [
        {
          "output_type": "execute_result",
          "data": {
            "text/plain": [
              "Age          int64\n",
              "Gender      object\n",
              "TB          object\n",
              "DB          object\n",
              "ALK         object\n",
              "SGPT        object\n",
              "SGOT        object\n",
              "TP          object\n",
              "ALB         object\n",
              "AG_Ratio    object\n",
              "Class       object\n",
              "dtype: object"
            ]
          },
          "metadata": {
            "tags": []
          },
          "execution_count": 3
        }
      ]
    },
    {
      "cell_type": "code",
      "metadata": {
        "id": "5GtVGaNqMK6a",
        "colab": {
          "base_uri": "https://localhost:8080/",
          "height": 242
        },
        "outputId": "50a0fe95-e291-4612-b330-f03244c75d0b"
      },
      "source": [
        "#converting the features Class and Gender to categorical data (0,1)\n",
        "training_set['Class'] = pd.Categorical(training_set['Class'])\n",
        "training_set['Class'] = training_set.Class.cat.codes\n",
        "testing_set['Class'] = pd.Categorical(testing_set['Class'])\n",
        "testing_set['Class'] = testing_set.Class.cat.codes\n",
        "\n",
        "training_set['Gender'] = pd.Categorical(training_set['Gender'])\n",
        "training_set['Gender'] = training_set.Gender.cat.codes\n",
        "testing_set['Gender'] = pd.Categorical(testing_set['Gender'])\n",
        "testing_set['Gender'] = testing_set.Gender.cat.codes\n",
        "\n",
        "#to replace the ? values with mode\n",
        "from sklearn.impute import SimpleImputer\n",
        "\n",
        "training_set.replace('?',np.NaN,inplace=True)\n",
        "testing_set.replace('?',np.NaN,inplace=True)\n",
        "\n",
        "imp = SimpleImputer(missing_values=np.NaN, strategy='most_frequent')\n",
        "\n",
        "itraining_set = pd.DataFrame(imp.fit_transform(training_set))\n",
        "itraining_set.columns = training_set.columns\n",
        "itraining_set.index = training_set.index\n",
        "\n",
        "itesting_set = pd.DataFrame(imp.fit_transform(testing_set))\n",
        "itesting_set.columns=testing_set.columns\n",
        "itesting_set.index=testing_set.index\n",
        "\n",
        "print(itesting_set['Class'])"
      ],
      "execution_count": null,
      "outputs": [
        {
          "output_type": "stream",
          "text": [
            "0      1\n",
            "1      1\n",
            "2      1\n",
            "3      1\n",
            "4      1\n",
            "      ..\n",
            "306    1\n",
            "307    1\n",
            "308    1\n",
            "309    1\n",
            "310    1\n",
            "Name: Class, Length: 311, dtype: object\n"
          ],
          "name": "stdout"
        }
      ]
    },
    {
      "cell_type": "code",
      "metadata": {
        "id": "Q973N-IPMQjI",
        "colab": {
          "base_uri": "https://localhost:8080/",
          "height": 242
        },
        "outputId": "8bc636ed-8dcb-4895-9967-61501d31a03a"
      },
      "source": [
        "itraining_set.dtypes"
      ],
      "execution_count": null,
      "outputs": [
        {
          "output_type": "execute_result",
          "data": {
            "text/plain": [
              "Age         object\n",
              "Gender      object\n",
              "TB          object\n",
              "DB          object\n",
              "ALK         object\n",
              "SGPT        object\n",
              "SGOT        object\n",
              "TP          object\n",
              "ALB         object\n",
              "AG_Ratio    object\n",
              "Class       object\n",
              "dtype: object"
            ]
          },
          "metadata": {
            "tags": []
          },
          "execution_count": 5
        }
      ]
    },
    {
      "cell_type": "code",
      "metadata": {
        "id": "KmCj2tsUMTGw",
        "colab": {
          "base_uri": "https://localhost:8080/",
          "height": 206
        },
        "outputId": "a3afe7fe-b3b2-4e2f-d356-5a45cddf3df4"
      },
      "source": [
        "\n",
        "integer_set = ['Age', 'Gender', 'ALK', 'SGPT', 'SGOT', 'Class']\n",
        "float_set = ['TB', 'DB', 'TP', 'ALB', 'AG_Ratio']\n",
        "\n",
        "#since the data types are object. we need to convert them to integer and float accordingly\n",
        "\n",
        "for i in integer_set:\n",
        "  itraining_set[i] = tf.convert_to_tensor(itraining_set[i],dtype=tf.int32)\n",
        "  itesting_set[i] = tf.convert_to_tensor(itesting_set[i],dtype=tf.int32)\n",
        "\n",
        "for i in float_set:\n",
        "  itraining_set[i] = tf.convert_to_tensor(itraining_set[i],dtype=tf.float32)\n",
        "  itesting_set[i] = tf.convert_to_tensor(itesting_set[i],dtype=tf.float32)\n",
        "\n",
        "itraining_set.head()\n"
      ],
      "execution_count": null,
      "outputs": [
        {
          "output_type": "execute_result",
          "data": {
            "text/html": [
              "<div>\n",
              "<style scoped>\n",
              "    .dataframe tbody tr th:only-of-type {\n",
              "        vertical-align: middle;\n",
              "    }\n",
              "\n",
              "    .dataframe tbody tr th {\n",
              "        vertical-align: top;\n",
              "    }\n",
              "\n",
              "    .dataframe thead th {\n",
              "        text-align: right;\n",
              "    }\n",
              "</style>\n",
              "<table border=\"1\" class=\"dataframe\">\n",
              "  <thead>\n",
              "    <tr style=\"text-align: right;\">\n",
              "      <th></th>\n",
              "      <th>Age</th>\n",
              "      <th>Gender</th>\n",
              "      <th>TB</th>\n",
              "      <th>DB</th>\n",
              "      <th>ALK</th>\n",
              "      <th>SGPT</th>\n",
              "      <th>SGOT</th>\n",
              "      <th>TP</th>\n",
              "      <th>ALB</th>\n",
              "      <th>AG_Ratio</th>\n",
              "      <th>Class</th>\n",
              "    </tr>\n",
              "  </thead>\n",
              "  <tbody>\n",
              "    <tr>\n",
              "      <th>0</th>\n",
              "      <td>65</td>\n",
              "      <td>0</td>\n",
              "      <td>0.7</td>\n",
              "      <td>0.1</td>\n",
              "      <td>187</td>\n",
              "      <td>16</td>\n",
              "      <td>18</td>\n",
              "      <td>6.8</td>\n",
              "      <td>3.3</td>\n",
              "      <td>0.90</td>\n",
              "      <td>1</td>\n",
              "    </tr>\n",
              "    <tr>\n",
              "      <th>1</th>\n",
              "      <td>62</td>\n",
              "      <td>1</td>\n",
              "      <td>10.9</td>\n",
              "      <td>5.5</td>\n",
              "      <td>699</td>\n",
              "      <td>64</td>\n",
              "      <td>100</td>\n",
              "      <td>7.5</td>\n",
              "      <td>3.2</td>\n",
              "      <td>0.74</td>\n",
              "      <td>1</td>\n",
              "    </tr>\n",
              "    <tr>\n",
              "      <th>2</th>\n",
              "      <td>62</td>\n",
              "      <td>1</td>\n",
              "      <td>7.3</td>\n",
              "      <td>4.1</td>\n",
              "      <td>490</td>\n",
              "      <td>60</td>\n",
              "      <td>68</td>\n",
              "      <td>7.0</td>\n",
              "      <td>3.3</td>\n",
              "      <td>0.89</td>\n",
              "      <td>1</td>\n",
              "    </tr>\n",
              "    <tr>\n",
              "      <th>3</th>\n",
              "      <td>58</td>\n",
              "      <td>1</td>\n",
              "      <td>1.0</td>\n",
              "      <td>0.4</td>\n",
              "      <td>182</td>\n",
              "      <td>14</td>\n",
              "      <td>20</td>\n",
              "      <td>6.8</td>\n",
              "      <td>3.4</td>\n",
              "      <td>1.00</td>\n",
              "      <td>1</td>\n",
              "    </tr>\n",
              "    <tr>\n",
              "      <th>4</th>\n",
              "      <td>72</td>\n",
              "      <td>1</td>\n",
              "      <td>3.9</td>\n",
              "      <td>2.0</td>\n",
              "      <td>195</td>\n",
              "      <td>27</td>\n",
              "      <td>59</td>\n",
              "      <td>7.3</td>\n",
              "      <td>2.4</td>\n",
              "      <td>0.40</td>\n",
              "      <td>1</td>\n",
              "    </tr>\n",
              "  </tbody>\n",
              "</table>\n",
              "</div>"
            ],
            "text/plain": [
              "   Age  Gender    TB   DB  ALK  SGPT  SGOT   TP  ALB  AG_Ratio  Class\n",
              "0   65       0   0.7  0.1  187    16    18  6.8  3.3      0.90      1\n",
              "1   62       1  10.9  5.5  699    64   100  7.5  3.2      0.74      1\n",
              "2   62       1   7.3  4.1  490    60    68  7.0  3.3      0.89      1\n",
              "3   58       1   1.0  0.4  182    14    20  6.8  3.4      1.00      1\n",
              "4   72       1   3.9  2.0  195    27    59  7.3  2.4      0.40      1"
            ]
          },
          "metadata": {
            "tags": []
          },
          "execution_count": 6
        }
      ]
    },
    {
      "cell_type": "code",
      "metadata": {
        "id": "iy22n5Msu6rk",
        "colab": {
          "base_uri": "https://localhost:8080/",
          "height": 242
        },
        "outputId": "9622cf2f-9233-46d4-f16c-e60bb692fe7d"
      },
      "source": [
        "itraining_set[itraining_set.columns[0:]].corr()['Class'][:]"
      ],
      "execution_count": null,
      "outputs": [
        {
          "output_type": "execute_result",
          "data": {
            "text/plain": [
              "Age         0.137351\n",
              "Gender      0.082416\n",
              "TB          0.220228\n",
              "DB          0.244106\n",
              "ALK         0.184090\n",
              "SGPT        0.163308\n",
              "SGOT        0.151861\n",
              "TP         -0.032244\n",
              "ALB        -0.164992\n",
              "AG_Ratio   -0.162403\n",
              "Class       1.000000\n",
              "Name: Class, dtype: float64"
            ]
          },
          "metadata": {
            "tags": []
          },
          "execution_count": 7
        }
      ]
    },
    {
      "cell_type": "code",
      "metadata": {
        "id": "HQJpoWfLMVzB"
      },
      "source": [
        "#removing the target variable \n",
        "itraining_set_y = itraining_set.pop('Class')\n",
        "itesting_set_y = itesting_set.pop('Class')"
      ],
      "execution_count": null,
      "outputs": []
    },
    {
      "cell_type": "code",
      "metadata": {
        "id": "LJEgl9mXMW8q",
        "colab": {
          "base_uri": "https://localhost:8080/",
          "height": 206
        },
        "outputId": "668ccd7a-d53f-405d-9162-a35868c65086"
      },
      "source": [
        "itraining_set.dtypes\n",
        "itraining_set.head()"
      ],
      "execution_count": null,
      "outputs": [
        {
          "output_type": "execute_result",
          "data": {
            "text/html": [
              "<div>\n",
              "<style scoped>\n",
              "    .dataframe tbody tr th:only-of-type {\n",
              "        vertical-align: middle;\n",
              "    }\n",
              "\n",
              "    .dataframe tbody tr th {\n",
              "        vertical-align: top;\n",
              "    }\n",
              "\n",
              "    .dataframe thead th {\n",
              "        text-align: right;\n",
              "    }\n",
              "</style>\n",
              "<table border=\"1\" class=\"dataframe\">\n",
              "  <thead>\n",
              "    <tr style=\"text-align: right;\">\n",
              "      <th></th>\n",
              "      <th>Age</th>\n",
              "      <th>Gender</th>\n",
              "      <th>TB</th>\n",
              "      <th>DB</th>\n",
              "      <th>ALK</th>\n",
              "      <th>SGPT</th>\n",
              "      <th>SGOT</th>\n",
              "      <th>TP</th>\n",
              "      <th>ALB</th>\n",
              "      <th>AG_Ratio</th>\n",
              "    </tr>\n",
              "  </thead>\n",
              "  <tbody>\n",
              "    <tr>\n",
              "      <th>0</th>\n",
              "      <td>65</td>\n",
              "      <td>0</td>\n",
              "      <td>0.7</td>\n",
              "      <td>0.1</td>\n",
              "      <td>187</td>\n",
              "      <td>16</td>\n",
              "      <td>18</td>\n",
              "      <td>6.8</td>\n",
              "      <td>3.3</td>\n",
              "      <td>0.90</td>\n",
              "    </tr>\n",
              "    <tr>\n",
              "      <th>1</th>\n",
              "      <td>62</td>\n",
              "      <td>1</td>\n",
              "      <td>10.9</td>\n",
              "      <td>5.5</td>\n",
              "      <td>699</td>\n",
              "      <td>64</td>\n",
              "      <td>100</td>\n",
              "      <td>7.5</td>\n",
              "      <td>3.2</td>\n",
              "      <td>0.74</td>\n",
              "    </tr>\n",
              "    <tr>\n",
              "      <th>2</th>\n",
              "      <td>62</td>\n",
              "      <td>1</td>\n",
              "      <td>7.3</td>\n",
              "      <td>4.1</td>\n",
              "      <td>490</td>\n",
              "      <td>60</td>\n",
              "      <td>68</td>\n",
              "      <td>7.0</td>\n",
              "      <td>3.3</td>\n",
              "      <td>0.89</td>\n",
              "    </tr>\n",
              "    <tr>\n",
              "      <th>3</th>\n",
              "      <td>58</td>\n",
              "      <td>1</td>\n",
              "      <td>1.0</td>\n",
              "      <td>0.4</td>\n",
              "      <td>182</td>\n",
              "      <td>14</td>\n",
              "      <td>20</td>\n",
              "      <td>6.8</td>\n",
              "      <td>3.4</td>\n",
              "      <td>1.00</td>\n",
              "    </tr>\n",
              "    <tr>\n",
              "      <th>4</th>\n",
              "      <td>72</td>\n",
              "      <td>1</td>\n",
              "      <td>3.9</td>\n",
              "      <td>2.0</td>\n",
              "      <td>195</td>\n",
              "      <td>27</td>\n",
              "      <td>59</td>\n",
              "      <td>7.3</td>\n",
              "      <td>2.4</td>\n",
              "      <td>0.40</td>\n",
              "    </tr>\n",
              "  </tbody>\n",
              "</table>\n",
              "</div>"
            ],
            "text/plain": [
              "   Age  Gender    TB   DB  ALK  SGPT  SGOT   TP  ALB  AG_Ratio\n",
              "0   65       0   0.7  0.1  187    16    18  6.8  3.3      0.90\n",
              "1   62       1  10.9  5.5  699    64   100  7.5  3.2      0.74\n",
              "2   62       1   7.3  4.1  490    60    68  7.0  3.3      0.89\n",
              "3   58       1   1.0  0.4  182    14    20  6.8  3.4      1.00\n",
              "4   72       1   3.9  2.0  195    27    59  7.3  2.4      0.40"
            ]
          },
          "metadata": {
            "tags": []
          },
          "execution_count": 31
        }
      ]
    },
    {
      "cell_type": "code",
      "metadata": {
        "id": "0Re_6HPUtTxb",
        "colab": {
          "base_uri": "https://localhost:8080/",
          "height": 129
        },
        "outputId": "1d66fa7d-d2a1-408b-88f1-b37a35d45129"
      },
      "source": [
        "itraining_set_y.head()"
      ],
      "execution_count": null,
      "outputs": [
        {
          "output_type": "execute_result",
          "data": {
            "text/plain": [
              "0    1\n",
              "1    1\n",
              "2    1\n",
              "3    1\n",
              "4    1\n",
              "Name: Class, dtype: int32"
            ]
          },
          "metadata": {
            "tags": []
          },
          "execution_count": 32
        }
      ]
    },
    {
      "cell_type": "code",
      "metadata": {
        "id": "M3ZdRsSXMZtU"
      },
      "source": [
        "#input function\n",
        "def input_fn(features, labels, training=True, batch_size=256):\n",
        "    \"\"\"An input function for training or evaluating\"\"\"\n",
        "    # Convert the inputs to a Dataset.\n",
        "    dataset = tf.data.Dataset.from_tensor_slices((dict(features), labels))\n",
        "\n",
        "    # Shuffle and repeat if you are in training mode.\n",
        "    if training:\n",
        "        dataset = dataset.shuffle(1000).repeat()\n",
        "    #The ds.batch() will take first batch_size entries and make a batch out of them.\n",
        "    return dataset.batch(batch_size)"
      ],
      "execution_count": null,
      "outputs": []
    },
    {
      "cell_type": "code",
      "metadata": {
        "id": "ItZZrzIaMcTW",
        "colab": {
          "base_uri": "https://localhost:8080/",
          "height": 224
        },
        "outputId": "f3026ce4-cd84-4a8a-846e-10000269edda"
      },
      "source": [
        "#names of the feature columns\n",
        "\n",
        "integer_set = ['Age', 'ALK', 'SGPT', 'SGOT']\n",
        "float_set = ['TB', 'DB', 'TP', 'ALB', 'AG_Ratio']\n",
        "categorical_set = ['Gender']\n",
        "\n",
        "def one_hot_cat_column(feature_name, vocab):\n",
        "  return tf.feature_column.indicator_column(\n",
        "      tf.feature_column.categorical_column_with_vocabulary_list(feature_name,\n",
        "                                                 vocab))\n",
        "my_feature_columns = []\n",
        "\n",
        "for feature in integer_set:\n",
        "  my_feature_columns.append(tf.feature_column.numeric_column(feature,\n",
        "                                           dtype=tf.int32))\n",
        "\n",
        "for feature in float_set:\n",
        "  my_feature_columns.append(tf.feature_column.numeric_column(feature,\n",
        "                                           dtype=tf.float32))\n",
        "for feature in categorical_set:\n",
        "  vocabulary = itraining_set[feature].unique()\n",
        "  my_feature_columns.append(one_hot_cat_column(feature, vocabulary))\n",
        "'''\n",
        "for key in itraining_set.keys():\n",
        "    my_feature_columns.append(tf.feature_column.numeric_column(key=key))\n",
        "'''\n",
        "my_feature_columns"
      ],
      "execution_count": null,
      "outputs": [
        {
          "output_type": "execute_result",
          "data": {
            "text/plain": [
              "[NumericColumn(key='Age', shape=(1,), default_value=None, dtype=tf.int32, normalizer_fn=None),\n",
              " NumericColumn(key='ALK', shape=(1,), default_value=None, dtype=tf.int32, normalizer_fn=None),\n",
              " NumericColumn(key='SGPT', shape=(1,), default_value=None, dtype=tf.int32, normalizer_fn=None),\n",
              " NumericColumn(key='SGOT', shape=(1,), default_value=None, dtype=tf.int32, normalizer_fn=None),\n",
              " NumericColumn(key='TB', shape=(1,), default_value=None, dtype=tf.float32, normalizer_fn=None),\n",
              " NumericColumn(key='DB', shape=(1,), default_value=None, dtype=tf.float32, normalizer_fn=None),\n",
              " NumericColumn(key='TP', shape=(1,), default_value=None, dtype=tf.float32, normalizer_fn=None),\n",
              " NumericColumn(key='ALB', shape=(1,), default_value=None, dtype=tf.float32, normalizer_fn=None),\n",
              " NumericColumn(key='AG_Ratio', shape=(1,), default_value=None, dtype=tf.float32, normalizer_fn=None),\n",
              " IndicatorColumn(categorical_column=VocabularyListCategoricalColumn(key='Gender', vocabulary_list=(0, 1), dtype=tf.int32, default_value=-1, num_oov_buckets=0))]"
            ]
          },
          "metadata": {
            "tags": []
          },
          "execution_count": 11
        }
      ]
    },
    {
      "cell_type": "code",
      "metadata": {
        "id": "QFtBlZJqlLuV"
      },
      "source": [
        "  def metrics_fn(labels, predictions):\n",
        "\n",
        "    tp_metric = tf.keras.metrics.TruePositives()\n",
        "    tp_metric.update_state(y_true=labels, y_pred = predictions['logistic'])\n",
        "\n",
        "    tn_metric = tf.keras.metrics.TrueNegatives()\n",
        "    tn_metric.update_state(y_true=labels, y_pred = predictions['logistic'])\n",
        "\n",
        "    fp_metric = tf.keras.metrics.FalsePositives()\n",
        "    fp_metric.update_state(y_true=labels, y_pred = predictions['logistic'])\n",
        "\n",
        "    fn_metric = tf.keras.metrics.FalseNegatives()\n",
        "    fn_metric.update_state(y_true=labels, y_pred = predictions['logistic'])\n",
        "\n",
        "    return {'true_positives': tp_metric,\n",
        "            'true_negatives': tn_metric,\n",
        "            'false_positives': fp_metric,\n",
        "            'false_negatives': fn_metric}"
      ],
      "execution_count": null,
      "outputs": []
    },
    {
      "cell_type": "code",
      "metadata": {
        "id": "PheibzkIMi2y",
        "colab": {
          "base_uri": "https://localhost:8080/",
          "height": 298
        },
        "outputId": "3863ae2a-3bc3-4de5-c22c-02104f823c0e"
      },
      "source": [
        "params = {\n",
        "  'n_trees': 100,\n",
        "  'max_depth': 4,\n",
        "  'n_batches_per_layer': 2,\n",
        "  'center_bias': True\n",
        "}\n",
        "\n",
        "boosted_trees_est = tf.estimator.BoostedTreesClassifier(feature_columns = my_feature_columns, n_classes = 2, **params)\n",
        "boosted_trees_est = tf.estimator.add_metrics(boosted_trees_est, metrics_fn)\n",
        "\n",
        "boosted_trees_est.train(\n",
        "    input_fn=lambda: input_fn(itraining_set, itraining_set_y, training=True),\n",
        "    steps=500)\n",
        "\n",
        "result = boosted_trees_est.evaluate(input_fn=lambda: input_fn(itesting_set, itesting_set_y, training=False))\n",
        "\n",
        "clear_output()\n",
        "\n",
        "result"
      ],
      "execution_count": null,
      "outputs": [
        {
          "output_type": "execute_result",
          "data": {
            "text/plain": [
              "{'accuracy': 0.977492,\n",
              " 'accuracy_baseline': 0.7106109,\n",
              " 'auc': 0.99861735,\n",
              " 'auc_precision_recall': 0.9994634,\n",
              " 'average_loss': 0.17116793,\n",
              " 'false_negatives': 1.0,\n",
              " 'false_positives': 6.0,\n",
              " 'global_step': 500,\n",
              " 'label/mean': 0.7106109,\n",
              " 'loss': 0.14643046,\n",
              " 'precision': 0.9734513,\n",
              " 'prediction/mean': 0.718273,\n",
              " 'recall': 0.9954751,\n",
              " 'true_negatives': 84.0,\n",
              " 'true_positives': 220.0}"
            ]
          },
          "metadata": {
            "tags": []
          },
          "execution_count": 13
        }
      ]
    },
    {
      "cell_type": "code",
      "metadata": {
        "id": "q0I69PqaM7Pc",
        "colab": {
          "base_uri": "https://localhost:8080/",
          "height": 508
        },
        "outputId": "f29e1a6e-74b5-4e8d-b217-8c3d9adc7919"
      },
      "source": [
        "def input_fn1(features, batch_size=256):\n",
        "    \"\"\"An input function for prediction.\"\"\"\n",
        "    # Convert the inputs to a Dataset without labels.\n",
        "    return tf.data.Dataset.from_tensor_slices(dict(features)).batch(batch_size)\n",
        "\n",
        "predictions = list(boosted_trees_est.predict(\n",
        "    input_fn=lambda: input_fn1(itesting_set)))\n",
        "\n",
        "predicted_labels = []\n",
        "for i in range(0,len(predictions)):\n",
        "  index = np.argmax(predictions[i]['probabilities'])\n",
        "  predicted_labels.append(index)\n",
        "\n",
        "labels = list(itesting_set_y)\n",
        "\n",
        "def plot_confusion_matrix(true, pred):\n",
        "    from sklearn.metrics import confusion_matrix\n",
        "    confusion_matrix = confusion_matrix(true, pred, labels=[1, 0])\n",
        "\n",
        "    import seaborn as sns; sns.set()\n",
        "    import matplotlib.pyplot as plt\n",
        "\n",
        "    cm_df = pd.DataFrame(confusion_matrix,\n",
        "                 index = ['1', '0'], \n",
        "                 columns = ['1', '0'])\n",
        "    ax = sns.heatmap(cm_df, fmt = 'd' , cmap=\"YlGnBu\", cbar = False,  annot=True)\n",
        "\n",
        "    plt.ylabel('True label')\n",
        "    plt.xlabel('Predicted label')\n",
        "    plt.title('Confusion Matrix')\n",
        "    plt.show()\n",
        "\n",
        "plot_confusion_matrix(labels,predicted_labels)\n"
      ],
      "execution_count": null,
      "outputs": [
        {
          "output_type": "stream",
          "text": [
            "INFO:tensorflow:Calling model_fn.\n",
            "INFO:tensorflow:Calling model_fn.\n",
            "INFO:tensorflow:Done calling model_fn.\n",
            "INFO:tensorflow:Done calling model_fn.\n",
            "INFO:tensorflow:Graph was finalized.\n",
            "INFO:tensorflow:Restoring parameters from /tmp/tmp26tpqama/model.ckpt-500\n",
            "INFO:tensorflow:Running local_init_op.\n",
            "INFO:tensorflow:Done running local_init_op.\n"
          ],
          "name": "stdout"
        },
        {
          "output_type": "stream",
          "text": [
            "/usr/local/lib/python3.6/dist-packages/statsmodels/tools/_testing.py:19: FutureWarning: pandas.util.testing is deprecated. Use the functions in the public API at pandas.testing instead.\n",
            "  import pandas.util.testing as tm\n"
          ],
          "name": "stderr"
        },
        {
          "output_type": "display_data",
          "data": {
            "image/png": "[encoded data removed]",
            "text/plain": [
              "<Figure size 432x288 with 1 Axes>"
            ]
          },
          "metadata": {
            "tags": []
          }
        }
      ]
    },
    {
      "cell_type": "code",
      "metadata": {
        "id": "fBo1r6cATSAi",
        "colab": {
          "base_uri": "https://localhost:8080/",
          "height": 298
        },
        "outputId": "6a9488de-23eb-46e1-fe00-8f08c78c8760"
      },
      "source": [
        "#DNN classifier\n",
        "dnn_est = tf.estimator.DNNClassifier(\n",
        "    feature_columns=my_feature_columns,\n",
        "    # Two hidden layers of 30 and 10 nodes respectively.\n",
        "    hidden_units=[30, 10],\n",
        "    # The model must choose between 2 classes.\n",
        "    n_classes=2)\n",
        "\n",
        "dnn_est = tf.estimator.add_metrics(dnn_est, metrics_fn)\n",
        "\n",
        "dnn_est.train(\n",
        "    input_fn=lambda: input_fn(itraining_set, itraining_set_y, training=True),\n",
        "    steps=500)\n",
        "\n",
        "result = dnn_est.evaluate(input_fn=lambda: input_fn(itesting_set, itesting_set_y, training=False))\n",
        "\n",
        "clear_output()\n",
        "\n",
        "result"
      ],
      "execution_count": null,
      "outputs": [
        {
          "output_type": "execute_result",
          "data": {
            "text/plain": [
              "{'accuracy': 0.6688103,\n",
              " 'accuracy_baseline': 0.7106109,\n",
              " 'auc': 0.6121921,\n",
              " 'auc_precision_recall': 0.8048754,\n",
              " 'average_loss': 0.7734589,\n",
              " 'false_negatives': 23.0,\n",
              " 'false_positives': 80.0,\n",
              " 'global_step': 500,\n",
              " 'label/mean': 0.7106109,\n",
              " 'loss': 0.7338333,\n",
              " 'precision': 0.7122302,\n",
              " 'prediction/mean': 0.811187,\n",
              " 'recall': 0.8959276,\n",
              " 'true_negatives': 10.0,\n",
              " 'true_positives': 198.0}"
            ]
          },
          "metadata": {
            "tags": []
          },
          "execution_count": 15
        }
      ]
    },
    {
      "cell_type": "code",
      "metadata": {
        "id": "xqe6837-p_8Z",
        "colab": {
          "base_uri": "https://localhost:8080/",
          "height": 298
        },
        "outputId": "17ed558e-0112-4a5d-c6c8-9fede62f1bc0"
      },
      "source": [
        "#linear classifier\n",
        "linear_est = tf.estimator.LinearClassifier(my_feature_columns)\n",
        "linear_est = tf.estimator.add_metrics(linear_est, metrics_fn)\n",
        "\n",
        "linear_est.train(\n",
        "    input_fn=lambda: input_fn(itraining_set, itraining_set_y, training=True),\n",
        "    steps=10)\n",
        "result = linear_est.evaluate(input_fn=lambda: input_fn(itesting_set, itesting_set_y, training=False))\n",
        "clear_output()\n",
        "result"
      ],
      "execution_count": null,
      "outputs": [
        {
          "output_type": "execute_result",
          "data": {
            "text/plain": [
              "{'accuracy': 0.67202574,\n",
              " 'accuracy_baseline': 0.7106109,\n",
              " 'auc': 0.6488688,\n",
              " 'auc_precision_recall': 0.8091512,\n",
              " 'average_loss': 1.2697825,\n",
              " 'false_negatives': 32.0,\n",
              " 'false_positives': 70.0,\n",
              " 'global_step': 10,\n",
              " 'label/mean': 0.7106109,\n",
              " 'loss': 0.9533379,\n",
              " 'precision': 0.7297297,\n",
              " 'prediction/mean': 0.81094545,\n",
              " 'recall': 0.8552036,\n",
              " 'true_negatives': 20.0,\n",
              " 'true_positives': 189.0}"
            ]
          },
          "metadata": {
            "tags": []
          },
          "execution_count": 16
        }
      ]
    },
    {
      "cell_type": "code",
      "metadata": {
        "id": "Yyw-w8ppi0Zp",
        "colab": {
          "base_uri": "https://localhost:8080/",
          "height": 149
        },
        "outputId": "060f0ece-99c6-49b0-b133-a73d55183cfb"
      },
      "source": [
        "model = tf.keras.Sequential([\n",
        "tf.keras.layers.Dense( 128 , input_shape=( 10 ,)),\n",
        "tf.keras.layers.Dropout( 0.2 ),\n",
        "tf.keras.layers.Dense( 1 , activation= 'sigmoid' ),\n",
        "])\n",
        "\n",
        "model.compile(optimizer=tf.keras.optimizers.Adam( 0.01 ),\n",
        "loss=tf.keras.losses.BinaryCrossentropy(),\n",
        "metrics=[ 'accuracy' ,\n",
        "tf.keras.metrics.TruePositives(),\n",
        "tf.keras.metrics.TrueNegatives(),\n",
        "tf.keras.metrics.FalsePositives(),\n",
        "tf.keras.metrics.FalseNegatives()])\n",
        "\n",
        "model.fit(itraining_set, itraining_set_y, epochs= 200 )\n",
        "clear_output()\n",
        "results = model.evaluate(itesting_set, itesting_set_y)\n",
        "print('accuracy ',results[1])\n",
        "print('true positives ',results[2])\n",
        "print('true negatives ',results[3])\n",
        "print('false positives ',results[4])\n",
        "print('false negatives ',results[5])"
      ],
      "execution_count": null,
      "outputs": [
        {
          "output_type": "stream",
          "text": [
            "10/10 [==============================] - 0s 3ms/step - loss: 0.4908 - accuracy: 0.6913 - true_positives_12: 168.0000 - true_negatives_12: 47.0000 - false_positives_12: 43.0000 - false_negatives_12: 53.0000\n",
            "accuracy  0.6913183331489563\n",
            "true positives  168.0\n",
            "true negatives  47.0\n",
            "false positives  43.0\n",
            "false negatives  53.0\n"
          ],
          "name": "stdout"
        }
      ]
    },
    {
      "cell_type": "code",
      "metadata": {
        "id": "Gkx-5nsdMKE9"
      },
      "source": [
        "############ USELESS BUT DON'T WANT TO DELETE #######################################\n",
        "\n",
        " test_input_fn = tf.compat.v1.estimator.inputs.numpy_input_fn(\n",
        "      x={\"x\": np.array(itesting_set)},\n",
        "      y=np.array(itesting_set_y),\n",
        "      num_epochs=1,\n",
        "      shuffle=True)\n",
        " \n",
        "labels = list(itraining_set_y)\n",
        "predictions = list(linear_est.predict(input_fn=test_input_fn))\n",
        "confusion_matrix = tf.confusion_matrix(labels, predictions)\n",
        "\n",
        "# Rebuild the input pipeline\n",
        "input_fn = create_eval_input_fn(path=eval_files)\n",
        "features, labels = input_fn()\n",
        "\n",
        "# Rebuild the model\n",
        "predictions = model_fn(features, labels, tf.estimator.ModeKeys.EVAL).predictions\n",
        "\n",
        "# Manually load the latest checkpoint\n",
        "saver = tf.train.Saver()\n",
        "with tf.Session() as sess:\n",
        "    ckpt = tf.train.get_checkpoint_state('/my/directory')\n",
        "    saver.restore(sess, ckpt.model_checkpoint_path)\n",
        "\n",
        "    # Loop through the batches and store predictions and labels\n",
        "    prediction_values = []\n",
        "    label_values = []\n",
        "    while True:\n",
        "        try:\n",
        "            preds, lbls = sess.run([predictions, labels])\n",
        "            prediction_values += preds\n",
        "            label_values += lbls\n",
        "        except tf.errors.OutOfRangeError:\n",
        "            break\n",
        "    # store prediction_values and label_values somewhere\n",
        "\n"
      ],
      "execution_count": null,
      "outputs": []
    }
  ]
}